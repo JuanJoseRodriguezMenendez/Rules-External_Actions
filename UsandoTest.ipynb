{
  "nbformat": 4,
  "nbformat_minor": 0,
  "metadata": {
    "colab": {
      "name": "UsandoTest.ipynb",
      "version": "0.3.2",
      "provenance": [],
      "include_colab_link": true
    },
    "kernelspec": {
      "name": "python3",
      "display_name": "Python 3"
    }
  },
  "cells": [
    {
      "cell_type": "markdown",
      "metadata": {
        "id": "view-in-github",
        "colab_type": "text"
      },
      "source": [
        "<a href=\"https://colab.research.google.com/github/JuanJoseRodriguezMenendez/Rules-External_Actions/blob/master/UsandoTest.ipynb\" target=\"_parent\"><img src=\"https://colab.research.google.com/assets/colab-badge.svg\" alt=\"Open In Colab\"/></a>"
      ]
    },
    {
      "metadata": {
        "id": "RZJ3GNuhUGkS",
        "colab_type": "text"
      },
      "cell_type": "markdown",
      "source": [
        "Importamos las librerias necesarias para la ejecucion de todo nuestro notebook"
      ]
    },
    {
      "metadata": {
        "id": "qDjGXizoPpA5",
        "colab_type": "code",
        "colab": {}
      },
      "cell_type": "code",
      "source": [
        "import warnings; warnings.simplefilter('ignore')\n",
        "from sklearn.model_selection import train_test_split\n",
        "import pandas as pd\n",
        "from sklearn.neighbors import KNeighborsClassifier\n",
        "from sklearn.tree import export_graphviz\n",
        "from IPython.display import Image\n",
        "from sklearn.tree import DecisionTreeClassifier\n",
        "from sklearn.linear_model import LogisticRegression\n",
        "from sklearn.svm import SVC\n",
        "from sklearn.linear_model import Perceptron\n",
        "from sklearn.neural_network import MLPClassifier\n",
        "from sklearn.metrics import classification_report\n",
        "from sklearn.model_selection import GridSearchCV\n",
        "from sklearn.svm import SVC\n",
        "from sklearn.model_selection import RandomizedSearchCV\n",
        "from scipy.stats import randint as sp_randint"
      ],
      "execution_count": 0,
      "outputs": []
    },
    {
      "metadata": {
        "id": "nR0rDifgUONG",
        "colab_type": "text"
      },
      "cell_type": "markdown",
      "source": [
        "Subimos los archivos necesarios para el notebook"
      ]
    },
    {
      "metadata": {
        "id": "wkbDfwmGPy_b",
        "colab_type": "code",
        "colab": {
          "resources": {
            "http://localhost:8080/nbextensions/google.colab/files.js": {
              "data": "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",
              "ok": true,
              "headers": [
                [
                  "content-type",
                  "application/javascript"
                ]
              ],
              "status": 200,
              "status_text": ""
            }
          },
          "base_uri": "https://localhost:8080/",
          "height": 142
        },
        "outputId": "6a012665-4171-4de4-f5b0-4fd03ece45b1"
      },
      "cell_type": "code",
      "source": [
        "from google.colab import files\n",
        "uploaded = files.upload()"
      ],
      "execution_count": 2,
      "outputs": [
        {
          "output_type": "display_data",
          "data": {
            "text/html": [
              "\n",
              "     <input type=\"file\" id=\"files-8d8faf55-8545-4620-b082-bb45443ace80\" name=\"files[]\" multiple disabled />\n",
              "     <output id=\"result-8d8faf55-8545-4620-b082-bb45443ace80\">\n",
              "      Upload widget is only available when the cell has been executed in the\n",
              "      current browser session. Please rerun this cell to enable.\n",
              "      </output>\n",
              "      <script src=\"/nbextensions/google.colab/files.js\"></script> "
            ],
            "text/plain": [
              "<IPython.core.display.HTML object>"
            ]
          },
          "metadata": {
            "tags": []
          }
        },
        {
          "output_type": "stream",
          "text": [
            "Saving sample.csv to sample.csv\n",
            "Saving test.csv to test.csv\n",
            "Saving train.csv to train.csv\n"
          ],
          "name": "stdout"
        }
      ]
    },
    {
      "metadata": {
        "id": "CGrHh02xUTGJ",
        "colab_type": "text"
      },
      "cell_type": "markdown",
      "source": [
        "\n",
        "Cargamos y tratamos nuestro dataset de entrenamiento para poder usarlo mediante los distintos algoritmos de clasificacion"
      ]
    },
    {
      "metadata": {
        "id": "tSnEgsEUP6-N",
        "colab_type": "code",
        "colab": {}
      },
      "cell_type": "code",
      "source": [
        "df = pd.read_csv('train.csv')\n",
        "df['Prediction'] = df['Prediction'].astype('int64')\n",
        "df['Gender'] = df['Gender'].map({'Male': 1, 'Female': 0})\n",
        "traindata = df.values\n",
        "X,Y = traindata[:,0:-1],traindata[:,-1]"
      ],
      "execution_count": 0,
      "outputs": []
    },
    {
      "metadata": {
        "id": "07ALLx1kUV3S",
        "colab_type": "text"
      },
      "cell_type": "markdown",
      "source": [
        "Separamos nuestro dataset en la parte de entrenamiento y la de testeo, la cual usaremos mas tarde para validar nuestros resultados"
      ]
    },
    {
      "metadata": {
        "id": "yxeYBALLQErS",
        "colab_type": "code",
        "colab": {}
      },
      "cell_type": "code",
      "source": [
        "from sklearn.model_selection import train_test_split"
      ],
      "execution_count": 0,
      "outputs": []
    },
    {
      "metadata": {
        "id": "rx264s8zQG0A",
        "colab_type": "code",
        "colab": {}
      },
      "cell_type": "code",
      "source": [
        "(trainData, testData, trainLabels, testLabels) = train_test_split(X,Y,test_size=0.25, random_state=42)"
      ],
      "execution_count": 0,
      "outputs": []
    },
    {
      "metadata": {
        "id": "wQX8V3OiQORh",
        "colab_type": "code",
        "colab": {}
      },
      "cell_type": "code",
      "source": [
        "def gridsearch(model,parameters,scores,k):\n",
        "    for score in scores:\n",
        "        print(\"# Tuning hyper-parameters for %s\" % score)\n",
        "        print()\n",
        "\n",
        "        clf = GridSearchCV(model, parameters, cv=k,\n",
        "                           scoring='%s_macro' % score)\n",
        "        clf.fit(trainData, trainLabels)\n",
        "\n",
        "        print(\"Best parameters set found on development set:\")\n",
        "        print()\n",
        "        print(clf.best_params_)\n",
        "        print()\n",
        "        print(\"Grid scores on development set:\")\n",
        "        print()\n",
        "        means = clf.cv_results_['mean_test_score']\n",
        "        stds = clf.cv_results_['std_test_score']\n",
        "        for mean, std, params in zip(means, stds, clf.cv_results_['params']):\n",
        "            print(\"%0.3f (+/-%0.03f) for %r\"\n",
        "                  % (mean, std * 2, params))"
      ],
      "execution_count": 0,
      "outputs": []
    },
    {
      "metadata": {
        "id": "_f9tGrOlUfdh",
        "colab_type": "text"
      },
      "cell_type": "markdown",
      "source": [
        "Buscamos mediante gridSearch ( en parte para evitar separar el dataset en otro conjunto) los mejores parámetros para cada uno de nuestros clasificadores, se obvia SVM porque en un notebook anterior no tuvo buenos resultados"
      ]
    },
    {
      "metadata": {
        "id": "XQeiK-X_Uc-9",
        "colab_type": "text"
      },
      "cell_type": "markdown",
      "source": [
        "**KNN**"
      ]
    },
    {
      "metadata": {
        "id": "H3Fq9RgfQY_b",
        "colab_type": "code",
        "colab": {}
      },
      "cell_type": "code",
      "source": [
        "modelKNN = KNeighborsClassifier()\n",
        "tuned_parameters = {'n_neighbors': range(1,100)}\n",
        "scores = ['precision']"
      ],
      "execution_count": 0,
      "outputs": []
    },
    {
      "metadata": {
        "id": "Na2dIBEtQsQu",
        "colab_type": "code",
        "colab": {
          "base_uri": "https://localhost:8080/",
          "height": 1924
        },
        "outputId": "b07a6f21-519b-4c51-ce0a-475989f22603"
      },
      "cell_type": "code",
      "source": [
        "import time\n",
        "%time\n",
        "gridsearch(modelKNN,tuned_parameters,scores,5)"
      ],
      "execution_count": 14,
      "outputs": [
        {
          "output_type": "stream",
          "text": [
            "CPU times: user 3 µs, sys: 0 ns, total: 3 µs\n",
            "Wall time: 5.72 µs\n",
            "# Tuning hyper-parameters for precision\n",
            "\n",
            "Best parameters set found on development set:\n",
            "\n",
            "{'n_neighbors': 51}\n",
            "\n",
            "Grid scores on development set:\n",
            "\n",
            "0.608 (+/-0.079) for {'n_neighbors': 1}\n",
            "0.599 (+/-0.142) for {'n_neighbors': 2}\n",
            "0.573 (+/-0.154) for {'n_neighbors': 3}\n",
            "0.600 (+/-0.150) for {'n_neighbors': 4}\n",
            "0.558 (+/-0.053) for {'n_neighbors': 5}\n",
            "0.538 (+/-0.073) for {'n_neighbors': 6}\n",
            "0.552 (+/-0.055) for {'n_neighbors': 7}\n",
            "0.538 (+/-0.061) for {'n_neighbors': 8}\n",
            "0.574 (+/-0.093) for {'n_neighbors': 9}\n",
            "0.568 (+/-0.110) for {'n_neighbors': 10}\n",
            "0.591 (+/-0.116) for {'n_neighbors': 11}\n",
            "0.590 (+/-0.166) for {'n_neighbors': 12}\n",
            "0.560 (+/-0.045) for {'n_neighbors': 13}\n",
            "0.591 (+/-0.137) for {'n_neighbors': 14}\n",
            "0.568 (+/-0.109) for {'n_neighbors': 15}\n",
            "0.620 (+/-0.271) for {'n_neighbors': 16}\n",
            "0.572 (+/-0.079) for {'n_neighbors': 17}\n",
            "0.582 (+/-0.176) for {'n_neighbors': 18}\n",
            "0.556 (+/-0.131) for {'n_neighbors': 19}\n",
            "0.593 (+/-0.107) for {'n_neighbors': 20}\n",
            "0.582 (+/-0.155) for {'n_neighbors': 21}\n",
            "0.644 (+/-0.112) for {'n_neighbors': 22}\n",
            "0.573 (+/-0.110) for {'n_neighbors': 23}\n",
            "0.692 (+/-0.225) for {'n_neighbors': 24}\n",
            "0.610 (+/-0.150) for {'n_neighbors': 25}\n",
            "0.657 (+/-0.260) for {'n_neighbors': 26}\n",
            "0.633 (+/-0.181) for {'n_neighbors': 27}\n",
            "0.648 (+/-0.288) for {'n_neighbors': 28}\n",
            "0.676 (+/-0.258) for {'n_neighbors': 29}\n",
            "0.654 (+/-0.274) for {'n_neighbors': 30}\n",
            "0.610 (+/-0.243) for {'n_neighbors': 31}\n",
            "0.671 (+/-0.237) for {'n_neighbors': 32}\n",
            "0.637 (+/-0.194) for {'n_neighbors': 33}\n",
            "0.669 (+/-0.267) for {'n_neighbors': 34}\n",
            "0.687 (+/-0.230) for {'n_neighbors': 35}\n",
            "0.644 (+/-0.397) for {'n_neighbors': 36}\n",
            "0.640 (+/-0.297) for {'n_neighbors': 37}\n",
            "0.585 (+/-0.355) for {'n_neighbors': 38}\n",
            "0.580 (+/-0.362) for {'n_neighbors': 39}\n",
            "0.478 (+/-0.256) for {'n_neighbors': 40}\n",
            "0.681 (+/-0.334) for {'n_neighbors': 41}\n",
            "0.426 (+/-0.200) for {'n_neighbors': 42}\n",
            "0.487 (+/-0.291) for {'n_neighbors': 43}\n",
            "0.453 (+/-0.305) for {'n_neighbors': 44}\n",
            "0.487 (+/-0.291) for {'n_neighbors': 45}\n",
            "0.478 (+/-0.399) for {'n_neighbors': 46}\n",
            "0.477 (+/-0.400) for {'n_neighbors': 47}\n",
            "0.484 (+/-0.398) for {'n_neighbors': 48}\n",
            "0.681 (+/-0.452) for {'n_neighbors': 49}\n",
            "0.483 (+/-0.394) for {'n_neighbors': 50}\n",
            "0.788 (+/-0.301) for {'n_neighbors': 51}\n",
            "0.560 (+/-0.501) for {'n_neighbors': 52}\n",
            "0.509 (+/-0.412) for {'n_neighbors': 53}\n",
            "0.560 (+/-0.501) for {'n_neighbors': 54}\n",
            "0.611 (+/-0.457) for {'n_neighbors': 55}\n",
            "0.560 (+/-0.501) for {'n_neighbors': 56}\n",
            "0.577 (+/-0.396) for {'n_neighbors': 57}\n",
            "0.611 (+/-0.457) for {'n_neighbors': 58}\n",
            "0.560 (+/-0.384) for {'n_neighbors': 59}\n",
            "0.612 (+/-0.456) for {'n_neighbors': 60}\n",
            "0.560 (+/-0.385) for {'n_neighbors': 61}\n",
            "0.561 (+/-0.500) for {'n_neighbors': 62}\n",
            "0.611 (+/-0.457) for {'n_neighbors': 63}\n",
            "0.561 (+/-0.500) for {'n_neighbors': 64}\n",
            "0.611 (+/-0.457) for {'n_neighbors': 65}\n",
            "0.560 (+/-0.501) for {'n_neighbors': 66}\n",
            "0.560 (+/-0.501) for {'n_neighbors': 67}\n",
            "0.559 (+/-0.498) for {'n_neighbors': 68}\n",
            "0.559 (+/-0.498) for {'n_neighbors': 69}\n",
            "0.457 (+/-0.407) for {'n_neighbors': 70}\n",
            "0.559 (+/-0.502) for {'n_neighbors': 71}\n",
            "0.457 (+/-0.406) for {'n_neighbors': 72}\n",
            "0.456 (+/-0.407) for {'n_neighbors': 73}\n",
            "0.457 (+/-0.407) for {'n_neighbors': 74}\n",
            "0.456 (+/-0.407) for {'n_neighbors': 75}\n",
            "0.355 (+/-0.003) for {'n_neighbors': 76}\n",
            "0.354 (+/-0.004) for {'n_neighbors': 77}\n",
            "0.355 (+/-0.003) for {'n_neighbors': 78}\n",
            "0.354 (+/-0.004) for {'n_neighbors': 79}\n",
            "0.355 (+/-0.002) for {'n_neighbors': 80}\n",
            "0.355 (+/-0.003) for {'n_neighbors': 81}\n",
            "0.355 (+/-0.002) for {'n_neighbors': 82}\n",
            "0.355 (+/-0.002) for {'n_neighbors': 83}\n",
            "0.355 (+/-0.002) for {'n_neighbors': 84}\n",
            "0.355 (+/-0.002) for {'n_neighbors': 85}\n",
            "0.355 (+/-0.002) for {'n_neighbors': 86}\n",
            "0.355 (+/-0.002) for {'n_neighbors': 87}\n",
            "0.355 (+/-0.002) for {'n_neighbors': 88}\n",
            "0.355 (+/-0.002) for {'n_neighbors': 89}\n",
            "0.355 (+/-0.002) for {'n_neighbors': 90}\n",
            "0.355 (+/-0.002) for {'n_neighbors': 91}\n",
            "0.355 (+/-0.002) for {'n_neighbors': 92}\n",
            "0.355 (+/-0.002) for {'n_neighbors': 93}\n",
            "0.356 (+/-0.002) for {'n_neighbors': 94}\n",
            "0.355 (+/-0.002) for {'n_neighbors': 95}\n",
            "0.355 (+/-0.003) for {'n_neighbors': 96}\n",
            "0.355 (+/-0.002) for {'n_neighbors': 97}\n",
            "0.355 (+/-0.002) for {'n_neighbors': 98}\n",
            "0.355 (+/-0.002) for {'n_neighbors': 99}\n"
          ],
          "name": "stdout"
        },
        {
          "output_type": "stream",
          "text": [
            "/usr/local/lib/python3.6/dist-packages/sklearn/model_selection/_search.py:841: DeprecationWarning: The default of the `iid` parameter will change from True to False in version 0.22 and will be removed in 0.24. This will change numeric results when test-set sizes are unequal.\n",
            "  DeprecationWarning)\n"
          ],
          "name": "stderr"
        }
      ]
    },
    {
      "metadata": {
        "id": "8J8fLEpvUx28",
        "colab_type": "text"
      },
      "cell_type": "markdown",
      "source": [
        "**Árboles de decisión**"
      ]
    },
    {
      "metadata": {
        "id": "3GO4p42iQ0jW",
        "colab_type": "code",
        "colab": {}
      },
      "cell_type": "code",
      "source": [
        "modelArbol = DecisionTreeClassifier()\n",
        "tuned_parameters = {'min_samples_split': range(2,50)}"
      ],
      "execution_count": 0,
      "outputs": []
    },
    {
      "metadata": {
        "id": "5aHNmho_Q3r7",
        "colab_type": "code",
        "colab": {
          "base_uri": "https://localhost:8080/",
          "height": 2043
        },
        "outputId": "67b6daf2-f63f-4b06-d812-fd0f4435c3f2"
      },
      "cell_type": "code",
      "source": [
        "import time\n",
        "%time\n",
        "gridsearch(modelArbol,tuned_parameters,scores,5)"
      ],
      "execution_count": 18,
      "outputs": [
        {
          "output_type": "stream",
          "text": [
            "CPU times: user 3 µs, sys: 0 ns, total: 3 µs\n",
            "Wall time: 6.44 µs\n",
            "# Tuning hyper-parameters for precision\n",
            "\n"
          ],
          "name": "stdout"
        },
        {
          "output_type": "stream",
          "text": [
            "/usr/local/lib/python3.6/dist-packages/sklearn/model_selection/_search.py:841: DeprecationWarning: The default of the `iid` parameter will change from True to False in version 0.22 and will be removed in 0.24. This will change numeric results when test-set sizes are unequal.\n",
            "  DeprecationWarning)\n"
          ],
          "name": "stderr"
        },
        {
          "output_type": "stream",
          "text": [
            "Best parameters set found on development set:\n",
            "\n",
            "{'min_samples_split': 10}\n",
            "\n",
            "Grid scores on development set:\n",
            "\n",
            "0.576 (+/-0.094) for {'min_samples_split': 2}\n",
            "0.568 (+/-0.066) for {'min_samples_split': 3}\n",
            "0.587 (+/-0.103) for {'min_samples_split': 4}\n",
            "0.592 (+/-0.073) for {'min_samples_split': 5}\n",
            "0.581 (+/-0.081) for {'min_samples_split': 6}\n",
            "0.584 (+/-0.060) for {'min_samples_split': 7}\n",
            "0.584 (+/-0.051) for {'min_samples_split': 8}\n",
            "0.586 (+/-0.069) for {'min_samples_split': 9}\n",
            "0.595 (+/-0.063) for {'min_samples_split': 10}\n",
            "0.587 (+/-0.051) for {'min_samples_split': 11}\n",
            "0.585 (+/-0.060) for {'min_samples_split': 12}\n",
            "0.586 (+/-0.083) for {'min_samples_split': 13}\n",
            "0.580 (+/-0.088) for {'min_samples_split': 14}\n",
            "0.557 (+/-0.062) for {'min_samples_split': 15}\n",
            "0.569 (+/-0.067) for {'min_samples_split': 16}\n",
            "0.573 (+/-0.079) for {'min_samples_split': 17}\n",
            "0.559 (+/-0.055) for {'min_samples_split': 18}\n",
            "0.576 (+/-0.093) for {'min_samples_split': 19}\n",
            "0.575 (+/-0.094) for {'min_samples_split': 20}\n",
            "0.576 (+/-0.093) for {'min_samples_split': 21}\n",
            "0.574 (+/-0.049) for {'min_samples_split': 22}\n",
            "0.570 (+/-0.046) for {'min_samples_split': 23}\n",
            "0.562 (+/-0.066) for {'min_samples_split': 24}\n",
            "0.584 (+/-0.048) for {'min_samples_split': 25}\n",
            "0.590 (+/-0.037) for {'min_samples_split': 26}\n",
            "0.563 (+/-0.068) for {'min_samples_split': 27}\n",
            "0.567 (+/-0.074) for {'min_samples_split': 28}\n",
            "0.590 (+/-0.037) for {'min_samples_split': 29}\n",
            "0.592 (+/-0.039) for {'min_samples_split': 30}\n",
            "0.575 (+/-0.072) for {'min_samples_split': 31}\n",
            "0.587 (+/-0.075) for {'min_samples_split': 32}\n",
            "0.575 (+/-0.047) for {'min_samples_split': 33}\n",
            "0.568 (+/-0.045) for {'min_samples_split': 34}\n",
            "0.575 (+/-0.041) for {'min_samples_split': 35}\n",
            "0.577 (+/-0.039) for {'min_samples_split': 36}\n",
            "0.584 (+/-0.075) for {'min_samples_split': 37}\n",
            "0.580 (+/-0.084) for {'min_samples_split': 38}\n",
            "0.578 (+/-0.082) for {'min_samples_split': 39}\n",
            "0.570 (+/-0.060) for {'min_samples_split': 40}\n",
            "0.581 (+/-0.086) for {'min_samples_split': 41}\n",
            "0.581 (+/-0.086) for {'min_samples_split': 42}\n",
            "0.581 (+/-0.086) for {'min_samples_split': 43}\n",
            "0.567 (+/-0.063) for {'min_samples_split': 44}\n",
            "0.575 (+/-0.085) for {'min_samples_split': 45}\n",
            "0.565 (+/-0.058) for {'min_samples_split': 46}\n",
            "0.564 (+/-0.054) for {'min_samples_split': 47}\n",
            "0.574 (+/-0.078) for {'min_samples_split': 48}\n",
            "0.572 (+/-0.075) for {'min_samples_split': 49}\n",
            "# Tuning hyper-parameters for recall\n",
            "\n",
            "Best parameters set found on development set:\n",
            "\n",
            "{'min_samples_split': 10}\n",
            "\n",
            "Grid scores on development set:\n",
            "\n",
            "0.582 (+/-0.077) for {'min_samples_split': 2}\n",
            "0.581 (+/-0.097) for {'min_samples_split': 3}\n",
            "0.584 (+/-0.062) for {'min_samples_split': 4}\n",
            "0.576 (+/-0.061) for {'min_samples_split': 5}\n",
            "0.588 (+/-0.058) for {'min_samples_split': 6}\n",
            "0.577 (+/-0.080) for {'min_samples_split': 7}\n",
            "0.574 (+/-0.062) for {'min_samples_split': 8}\n",
            "0.573 (+/-0.071) for {'min_samples_split': 9}\n",
            "0.590 (+/-0.059) for {'min_samples_split': 10}\n",
            "0.575 (+/-0.068) for {'min_samples_split': 11}\n",
            "0.568 (+/-0.055) for {'min_samples_split': 12}\n",
            "0.568 (+/-0.069) for {'min_samples_split': 13}\n",
            "0.556 (+/-0.079) for {'min_samples_split': 14}\n",
            "0.569 (+/-0.060) for {'min_samples_split': 15}\n",
            "0.554 (+/-0.050) for {'min_samples_split': 16}\n",
            "0.561 (+/-0.050) for {'min_samples_split': 17}\n",
            "0.569 (+/-0.079) for {'min_samples_split': 18}\n",
            "0.579 (+/-0.079) for {'min_samples_split': 19}\n",
            "0.554 (+/-0.079) for {'min_samples_split': 20}\n",
            "0.554 (+/-0.079) for {'min_samples_split': 21}\n",
            "0.576 (+/-0.054) for {'min_samples_split': 22}\n",
            "0.579 (+/-0.029) for {'min_samples_split': 23}\n",
            "0.574 (+/-0.021) for {'min_samples_split': 24}\n",
            "0.589 (+/-0.038) for {'min_samples_split': 25}\n",
            "0.577 (+/-0.047) for {'min_samples_split': 26}\n",
            "0.582 (+/-0.030) for {'min_samples_split': 27}\n",
            "0.583 (+/-0.033) for {'min_samples_split': 28}\n",
            "0.571 (+/-0.082) for {'min_samples_split': 29}\n",
            "0.588 (+/-0.037) for {'min_samples_split': 30}\n",
            "0.566 (+/-0.056) for {'min_samples_split': 31}\n",
            "0.574 (+/-0.054) for {'min_samples_split': 32}\n",
            "0.569 (+/-0.041) for {'min_samples_split': 33}\n",
            "0.568 (+/-0.051) for {'min_samples_split': 34}\n",
            "0.571 (+/-0.029) for {'min_samples_split': 35}\n",
            "0.587 (+/-0.065) for {'min_samples_split': 36}\n",
            "0.560 (+/-0.046) for {'min_samples_split': 37}\n",
            "0.571 (+/-0.082) for {'min_samples_split': 38}\n",
            "0.571 (+/-0.082) for {'min_samples_split': 39}\n",
            "0.560 (+/-0.053) for {'min_samples_split': 40}\n",
            "0.571 (+/-0.082) for {'min_samples_split': 41}\n",
            "0.563 (+/-0.056) for {'min_samples_split': 42}\n",
            "0.571 (+/-0.082) for {'min_samples_split': 43}\n",
            "0.556 (+/-0.056) for {'min_samples_split': 44}\n",
            "0.557 (+/-0.057) for {'min_samples_split': 45}\n",
            "0.557 (+/-0.057) for {'min_samples_split': 46}\n",
            "0.551 (+/-0.042) for {'min_samples_split': 47}\n",
            "0.555 (+/-0.053) for {'min_samples_split': 48}\n",
            "0.559 (+/-0.057) for {'min_samples_split': 49}\n"
          ],
          "name": "stdout"
        },
        {
          "output_type": "stream",
          "text": [
            "/usr/local/lib/python3.6/dist-packages/sklearn/model_selection/_search.py:841: DeprecationWarning: The default of the `iid` parameter will change from True to False in version 0.22 and will be removed in 0.24. This will change numeric results when test-set sizes are unequal.\n",
            "  DeprecationWarning)\n"
          ],
          "name": "stderr"
        }
      ]
    },
    {
      "metadata": {
        "id": "xlRL64wzU8pQ",
        "colab_type": "text"
      },
      "cell_type": "markdown",
      "source": [
        "**Regresión logística**"
      ]
    },
    {
      "metadata": {
        "id": "ZggtPHztRIgU",
        "colab_type": "code",
        "colab": {}
      },
      "cell_type": "code",
      "source": [
        "modelLR = LogisticRegression()\n",
        "tuned_parameters = {'C': [0.1,1,10,100,1000]}"
      ],
      "execution_count": 0,
      "outputs": []
    },
    {
      "metadata": {
        "id": "6ZjYroRPRMld",
        "colab_type": "code",
        "colab": {
          "base_uri": "https://localhost:8080/",
          "height": 547
        },
        "outputId": "71f2cfd3-a4ca-451c-f109-086d01e6d6db"
      },
      "cell_type": "code",
      "source": [
        "import time\n",
        "%time\n",
        "gridsearch(modelLR,tuned_parameters,scores,5)"
      ],
      "execution_count": 20,
      "outputs": [
        {
          "output_type": "stream",
          "text": [
            "CPU times: user 2 µs, sys: 1 µs, total: 3 µs\n",
            "Wall time: 6.44 µs\n",
            "# Tuning hyper-parameters for precision\n",
            "\n",
            "Best parameters set found on development set:\n",
            "\n",
            "{'C': 1000}\n",
            "\n",
            "Grid scores on development set:\n",
            "\n",
            "0.608 (+/-0.192) for {'C': 0.1}\n",
            "0.582 (+/-0.183) for {'C': 1}\n",
            "0.606 (+/-0.174) for {'C': 10}\n",
            "0.620 (+/-0.169) for {'C': 100}\n",
            "0.626 (+/-0.188) for {'C': 1000}\n",
            "# Tuning hyper-parameters for recall\n",
            "\n",
            "Best parameters set found on development set:\n",
            "\n",
            "{'C': 1000}\n",
            "\n",
            "Grid scores on development set:\n",
            "\n",
            "0.532 (+/-0.047) for {'C': 0.1}\n",
            "0.532 (+/-0.062) for {'C': 1}\n",
            "0.540 (+/-0.058) for {'C': 10}\n",
            "0.546 (+/-0.045) for {'C': 100}\n",
            "0.552 (+/-0.058) for {'C': 1000}\n"
          ],
          "name": "stdout"
        },
        {
          "output_type": "stream",
          "text": [
            "/usr/local/lib/python3.6/dist-packages/sklearn/model_selection/_search.py:841: DeprecationWarning: The default of the `iid` parameter will change from True to False in version 0.22 and will be removed in 0.24. This will change numeric results when test-set sizes are unequal.\n",
            "  DeprecationWarning)\n"
          ],
          "name": "stderr"
        }
      ]
    },
    {
      "metadata": {
        "id": "zI0eEcBAU2Ce",
        "colab_type": "text"
      },
      "cell_type": "markdown",
      "source": [
        "**Redes neuronales**"
      ]
    },
    {
      "metadata": {
        "id": "gXSUaOW1RT_M",
        "colab_type": "code",
        "colab": {}
      },
      "cell_type": "code",
      "source": [
        "mLPClassifier = MLPClassifier()\n",
        "tuned_parameters = {'hidden_layer_sizes': [(2),(5,2), (3,3,3), (5,3,2), (5,4,3,2)],\n",
        "     'activation' : ['identity', 'logistic', 'tanh', 'relu'],\n",
        "     'momentum' : [0.9,0.95,0.99],\n",
        "     'learning_rate_init' : [0.001,0.01,0.1]}"
      ],
      "execution_count": 0,
      "outputs": []
    },
    {
      "metadata": {
        "id": "0qbIsznFRZBf",
        "colab_type": "code",
        "colab": {
          "base_uri": "https://localhost:8080/",
          "height": 6497
        },
        "outputId": "8b6c6297-fa32-4f45-aa44-46a6ac0c06be"
      },
      "cell_type": "code",
      "source": [
        "gridsearch(mLPClassifier,tuned_parameters,scores,5)"
      ],
      "execution_count": 22,
      "outputs": [
        {
          "output_type": "stream",
          "text": [
            "# Tuning hyper-parameters for precision\n",
            "\n"
          ],
          "name": "stdout"
        },
        {
          "output_type": "stream",
          "text": [
            "/usr/local/lib/python3.6/dist-packages/sklearn/model_selection/_search.py:841: DeprecationWarning: The default of the `iid` parameter will change from True to False in version 0.22 and will be removed in 0.24. This will change numeric results when test-set sizes are unequal.\n",
            "  DeprecationWarning)\n"
          ],
          "name": "stderr"
        },
        {
          "output_type": "stream",
          "text": [
            "Best parameters set found on development set:\n",
            "\n",
            "{'activation': 'identity', 'hidden_layer_sizes': 2, 'learning_rate_init': 0.1, 'momentum': 0.9}\n",
            "\n",
            "Grid scores on development set:\n",
            "\n",
            "0.530 (+/-0.222) for {'activation': 'identity', 'hidden_layer_sizes': 2, 'learning_rate_init': 0.001, 'momentum': 0.9}\n",
            "0.477 (+/-0.269) for {'activation': 'identity', 'hidden_layer_sizes': 2, 'learning_rate_init': 0.001, 'momentum': 0.95}\n",
            "0.356 (+/-0.261) for {'activation': 'identity', 'hidden_layer_sizes': 2, 'learning_rate_init': 0.001, 'momentum': 0.99}\n",
            "0.516 (+/-0.294) for {'activation': 'identity', 'hidden_layer_sizes': 2, 'learning_rate_init': 0.01, 'momentum': 0.9}\n",
            "0.453 (+/-0.244) for {'activation': 'identity', 'hidden_layer_sizes': 2, 'learning_rate_init': 0.01, 'momentum': 0.95}\n",
            "0.579 (+/-0.334) for {'activation': 'identity', 'hidden_layer_sizes': 2, 'learning_rate_init': 0.01, 'momentum': 0.99}\n",
            "0.696 (+/-0.169) for {'activation': 'identity', 'hidden_layer_sizes': 2, 'learning_rate_init': 0.1, 'momentum': 0.9}\n",
            "0.524 (+/-0.300) for {'activation': 'identity', 'hidden_layer_sizes': 2, 'learning_rate_init': 0.1, 'momentum': 0.95}\n",
            "0.614 (+/-0.271) for {'activation': 'identity', 'hidden_layer_sizes': 2, 'learning_rate_init': 0.1, 'momentum': 0.99}\n",
            "0.589 (+/-0.184) for {'activation': 'identity', 'hidden_layer_sizes': (5, 2), 'learning_rate_init': 0.001, 'momentum': 0.9}\n",
            "0.426 (+/-0.350) for {'activation': 'identity', 'hidden_layer_sizes': (5, 2), 'learning_rate_init': 0.001, 'momentum': 0.95}\n",
            "0.527 (+/-0.239) for {'activation': 'identity', 'hidden_layer_sizes': (5, 2), 'learning_rate_init': 0.001, 'momentum': 0.99}\n",
            "0.551 (+/-0.209) for {'activation': 'identity', 'hidden_layer_sizes': (5, 2), 'learning_rate_init': 0.01, 'momentum': 0.9}\n",
            "0.416 (+/-0.241) for {'activation': 'identity', 'hidden_layer_sizes': (5, 2), 'learning_rate_init': 0.01, 'momentum': 0.95}\n",
            "0.662 (+/-0.241) for {'activation': 'identity', 'hidden_layer_sizes': (5, 2), 'learning_rate_init': 0.01, 'momentum': 0.99}\n",
            "0.622 (+/-0.266) for {'activation': 'identity', 'hidden_layer_sizes': (5, 2), 'learning_rate_init': 0.1, 'momentum': 0.9}\n",
            "0.536 (+/-0.252) for {'activation': 'identity', 'hidden_layer_sizes': (5, 2), 'learning_rate_init': 0.1, 'momentum': 0.95}\n",
            "0.638 (+/-0.335) for {'activation': 'identity', 'hidden_layer_sizes': (5, 2), 'learning_rate_init': 0.1, 'momentum': 0.99}\n",
            "0.534 (+/-0.215) for {'activation': 'identity', 'hidden_layer_sizes': (3, 3, 3), 'learning_rate_init': 0.001, 'momentum': 0.9}\n",
            "0.471 (+/-0.223) for {'activation': 'identity', 'hidden_layer_sizes': (3, 3, 3), 'learning_rate_init': 0.001, 'momentum': 0.95}\n",
            "0.535 (+/-0.242) for {'activation': 'identity', 'hidden_layer_sizes': (3, 3, 3), 'learning_rate_init': 0.001, 'momentum': 0.99}\n",
            "0.439 (+/-0.219) for {'activation': 'identity', 'hidden_layer_sizes': (3, 3, 3), 'learning_rate_init': 0.01, 'momentum': 0.9}\n",
            "0.408 (+/-0.206) for {'activation': 'identity', 'hidden_layer_sizes': (3, 3, 3), 'learning_rate_init': 0.01, 'momentum': 0.95}\n",
            "0.582 (+/-0.329) for {'activation': 'identity', 'hidden_layer_sizes': (3, 3, 3), 'learning_rate_init': 0.01, 'momentum': 0.99}\n",
            "0.646 (+/-0.257) for {'activation': 'identity', 'hidden_layer_sizes': (3, 3, 3), 'learning_rate_init': 0.1, 'momentum': 0.9}\n",
            "0.477 (+/-0.317) for {'activation': 'identity', 'hidden_layer_sizes': (3, 3, 3), 'learning_rate_init': 0.1, 'momentum': 0.95}\n",
            "0.477 (+/-0.209) for {'activation': 'identity', 'hidden_layer_sizes': (3, 3, 3), 'learning_rate_init': 0.1, 'momentum': 0.99}\n",
            "0.497 (+/-0.323) for {'activation': 'identity', 'hidden_layer_sizes': (5, 3, 2), 'learning_rate_init': 0.001, 'momentum': 0.9}\n",
            "0.444 (+/-0.359) for {'activation': 'identity', 'hidden_layer_sizes': (5, 3, 2), 'learning_rate_init': 0.001, 'momentum': 0.95}\n",
            "0.572 (+/-0.338) for {'activation': 'identity', 'hidden_layer_sizes': (5, 3, 2), 'learning_rate_init': 0.001, 'momentum': 0.99}\n",
            "0.554 (+/-0.274) for {'activation': 'identity', 'hidden_layer_sizes': (5, 3, 2), 'learning_rate_init': 0.01, 'momentum': 0.9}\n",
            "0.529 (+/-0.287) for {'activation': 'identity', 'hidden_layer_sizes': (5, 3, 2), 'learning_rate_init': 0.01, 'momentum': 0.95}\n",
            "0.539 (+/-0.322) for {'activation': 'identity', 'hidden_layer_sizes': (5, 3, 2), 'learning_rate_init': 0.01, 'momentum': 0.99}\n",
            "0.442 (+/-0.248) for {'activation': 'identity', 'hidden_layer_sizes': (5, 3, 2), 'learning_rate_init': 0.1, 'momentum': 0.9}\n",
            "0.523 (+/-0.317) for {'activation': 'identity', 'hidden_layer_sizes': (5, 3, 2), 'learning_rate_init': 0.1, 'momentum': 0.95}\n",
            "0.585 (+/-0.334) for {'activation': 'identity', 'hidden_layer_sizes': (5, 3, 2), 'learning_rate_init': 0.1, 'momentum': 0.99}\n",
            "0.543 (+/-0.310) for {'activation': 'identity', 'hidden_layer_sizes': (5, 4, 3, 2), 'learning_rate_init': 0.001, 'momentum': 0.9}\n",
            "0.521 (+/-0.309) for {'activation': 'identity', 'hidden_layer_sizes': (5, 4, 3, 2), 'learning_rate_init': 0.001, 'momentum': 0.95}\n",
            "0.585 (+/-0.405) for {'activation': 'identity', 'hidden_layer_sizes': (5, 4, 3, 2), 'learning_rate_init': 0.001, 'momentum': 0.99}\n",
            "0.451 (+/-0.246) for {'activation': 'identity', 'hidden_layer_sizes': (5, 4, 3, 2), 'learning_rate_init': 0.01, 'momentum': 0.9}\n",
            "0.520 (+/-0.250) for {'activation': 'identity', 'hidden_layer_sizes': (5, 4, 3, 2), 'learning_rate_init': 0.01, 'momentum': 0.95}\n",
            "0.592 (+/-0.121) for {'activation': 'identity', 'hidden_layer_sizes': (5, 4, 3, 2), 'learning_rate_init': 0.01, 'momentum': 0.99}\n",
            "0.486 (+/-0.235) for {'activation': 'identity', 'hidden_layer_sizes': (5, 4, 3, 2), 'learning_rate_init': 0.1, 'momentum': 0.9}\n",
            "0.590 (+/-0.225) for {'activation': 'identity', 'hidden_layer_sizes': (5, 4, 3, 2), 'learning_rate_init': 0.1, 'momentum': 0.95}\n",
            "0.596 (+/-0.357) for {'activation': 'identity', 'hidden_layer_sizes': (5, 4, 3, 2), 'learning_rate_init': 0.1, 'momentum': 0.99}\n",
            "0.356 (+/-0.004) for {'activation': 'logistic', 'hidden_layer_sizes': 2, 'learning_rate_init': 0.001, 'momentum': 0.9}\n",
            "0.425 (+/-0.275) for {'activation': 'logistic', 'hidden_layer_sizes': 2, 'learning_rate_init': 0.001, 'momentum': 0.95}\n",
            "0.384 (+/-0.117) for {'activation': 'logistic', 'hidden_layer_sizes': 2, 'learning_rate_init': 0.001, 'momentum': 0.99}\n",
            "0.356 (+/-0.004) for {'activation': 'logistic', 'hidden_layer_sizes': 2, 'learning_rate_init': 0.01, 'momentum': 0.9}\n",
            "0.385 (+/-0.114) for {'activation': 'logistic', 'hidden_layer_sizes': 2, 'learning_rate_init': 0.01, 'momentum': 0.95}\n",
            "0.389 (+/-0.131) for {'activation': 'logistic', 'hidden_layer_sizes': 2, 'learning_rate_init': 0.01, 'momentum': 0.99}\n",
            "0.356 (+/-0.004) for {'activation': 'logistic', 'hidden_layer_sizes': 2, 'learning_rate_init': 0.1, 'momentum': 0.9}\n",
            "0.356 (+/-0.004) for {'activation': 'logistic', 'hidden_layer_sizes': 2, 'learning_rate_init': 0.1, 'momentum': 0.95}\n",
            "0.356 (+/-0.004) for {'activation': 'logistic', 'hidden_layer_sizes': 2, 'learning_rate_init': 0.1, 'momentum': 0.99}\n",
            "0.356 (+/-0.004) for {'activation': 'logistic', 'hidden_layer_sizes': (5, 2), 'learning_rate_init': 0.001, 'momentum': 0.9}\n",
            "0.356 (+/-0.004) for {'activation': 'logistic', 'hidden_layer_sizes': (5, 2), 'learning_rate_init': 0.001, 'momentum': 0.95}\n",
            "0.356 (+/-0.004) for {'activation': 'logistic', 'hidden_layer_sizes': (5, 2), 'learning_rate_init': 0.001, 'momentum': 0.99}\n",
            "0.356 (+/-0.004) for {'activation': 'logistic', 'hidden_layer_sizes': (5, 2), 'learning_rate_init': 0.01, 'momentum': 0.9}\n",
            "0.424 (+/-0.170) for {'activation': 'logistic', 'hidden_layer_sizes': (5, 2), 'learning_rate_init': 0.01, 'momentum': 0.95}\n",
            "0.356 (+/-0.004) for {'activation': 'logistic', 'hidden_layer_sizes': (5, 2), 'learning_rate_init': 0.01, 'momentum': 0.99}\n",
            "0.356 (+/-0.004) for {'activation': 'logistic', 'hidden_layer_sizes': (5, 2), 'learning_rate_init': 0.1, 'momentum': 0.9}\n",
            "0.356 (+/-0.004) for {'activation': 'logistic', 'hidden_layer_sizes': (5, 2), 'learning_rate_init': 0.1, 'momentum': 0.95}\n",
            "0.356 (+/-0.004) for {'activation': 'logistic', 'hidden_layer_sizes': (5, 2), 'learning_rate_init': 0.1, 'momentum': 0.99}\n",
            "0.356 (+/-0.004) for {'activation': 'logistic', 'hidden_layer_sizes': (3, 3, 3), 'learning_rate_init': 0.001, 'momentum': 0.9}\n",
            "0.356 (+/-0.004) for {'activation': 'logistic', 'hidden_layer_sizes': (3, 3, 3), 'learning_rate_init': 0.001, 'momentum': 0.95}\n",
            "0.356 (+/-0.004) for {'activation': 'logistic', 'hidden_layer_sizes': (3, 3, 3), 'learning_rate_init': 0.001, 'momentum': 0.99}\n",
            "0.356 (+/-0.004) for {'activation': 'logistic', 'hidden_layer_sizes': (3, 3, 3), 'learning_rate_init': 0.01, 'momentum': 0.9}\n",
            "0.411 (+/-0.219) for {'activation': 'logistic', 'hidden_layer_sizes': (3, 3, 3), 'learning_rate_init': 0.01, 'momentum': 0.95}\n",
            "0.418 (+/-0.154) for {'activation': 'logistic', 'hidden_layer_sizes': (3, 3, 3), 'learning_rate_init': 0.01, 'momentum': 0.99}\n",
            "0.356 (+/-0.004) for {'activation': 'logistic', 'hidden_layer_sizes': (3, 3, 3), 'learning_rate_init': 0.1, 'momentum': 0.9}\n",
            "0.356 (+/-0.004) for {'activation': 'logistic', 'hidden_layer_sizes': (3, 3, 3), 'learning_rate_init': 0.1, 'momentum': 0.95}\n",
            "0.356 (+/-0.004) for {'activation': 'logistic', 'hidden_layer_sizes': (3, 3, 3), 'learning_rate_init': 0.1, 'momentum': 0.99}\n",
            "0.313 (+/-0.171) for {'activation': 'logistic', 'hidden_layer_sizes': (5, 3, 2), 'learning_rate_init': 0.001, 'momentum': 0.9}\n",
            "0.356 (+/-0.004) for {'activation': 'logistic', 'hidden_layer_sizes': (5, 3, 2), 'learning_rate_init': 0.001, 'momentum': 0.95}\n",
            "0.313 (+/-0.171) for {'activation': 'logistic', 'hidden_layer_sizes': (5, 3, 2), 'learning_rate_init': 0.001, 'momentum': 0.99}\n",
            "0.384 (+/-0.110) for {'activation': 'logistic', 'hidden_layer_sizes': (5, 3, 2), 'learning_rate_init': 0.01, 'momentum': 0.9}\n",
            "0.356 (+/-0.004) for {'activation': 'logistic', 'hidden_layer_sizes': (5, 3, 2), 'learning_rate_init': 0.01, 'momentum': 0.95}\n",
            "0.465 (+/-0.272) for {'activation': 'logistic', 'hidden_layer_sizes': (5, 3, 2), 'learning_rate_init': 0.01, 'momentum': 0.99}\n",
            "0.356 (+/-0.004) for {'activation': 'logistic', 'hidden_layer_sizes': (5, 3, 2), 'learning_rate_init': 0.1, 'momentum': 0.9}\n",
            "0.356 (+/-0.004) for {'activation': 'logistic', 'hidden_layer_sizes': (5, 3, 2), 'learning_rate_init': 0.1, 'momentum': 0.95}\n",
            "0.356 (+/-0.004) for {'activation': 'logistic', 'hidden_layer_sizes': (5, 3, 2), 'learning_rate_init': 0.1, 'momentum': 0.99}\n",
            "0.356 (+/-0.004) for {'activation': 'logistic', 'hidden_layer_sizes': (5, 4, 3, 2), 'learning_rate_init': 0.001, 'momentum': 0.9}\n",
            "0.356 (+/-0.004) for {'activation': 'logistic', 'hidden_layer_sizes': (5, 4, 3, 2), 'learning_rate_init': 0.001, 'momentum': 0.95}\n",
            "0.356 (+/-0.004) for {'activation': 'logistic', 'hidden_layer_sizes': (5, 4, 3, 2), 'learning_rate_init': 0.001, 'momentum': 0.99}\n",
            "0.356 (+/-0.004) for {'activation': 'logistic', 'hidden_layer_sizes': (5, 4, 3, 2), 'learning_rate_init': 0.01, 'momentum': 0.9}\n",
            "0.356 (+/-0.004) for {'activation': 'logistic', 'hidden_layer_sizes': (5, 4, 3, 2), 'learning_rate_init': 0.01, 'momentum': 0.95}\n",
            "0.356 (+/-0.004) for {'activation': 'logistic', 'hidden_layer_sizes': (5, 4, 3, 2), 'learning_rate_init': 0.01, 'momentum': 0.99}\n",
            "0.356 (+/-0.004) for {'activation': 'logistic', 'hidden_layer_sizes': (5, 4, 3, 2), 'learning_rate_init': 0.1, 'momentum': 0.9}\n",
            "0.356 (+/-0.004) for {'activation': 'logistic', 'hidden_layer_sizes': (5, 4, 3, 2), 'learning_rate_init': 0.1, 'momentum': 0.95}\n",
            "0.356 (+/-0.004) for {'activation': 'logistic', 'hidden_layer_sizes': (5, 4, 3, 2), 'learning_rate_init': 0.1, 'momentum': 0.99}\n",
            "0.343 (+/-0.237) for {'activation': 'tanh', 'hidden_layer_sizes': 2, 'learning_rate_init': 0.001, 'momentum': 0.9}\n",
            "0.416 (+/-0.241) for {'activation': 'tanh', 'hidden_layer_sizes': 2, 'learning_rate_init': 0.001, 'momentum': 0.95}\n",
            "0.313 (+/-0.171) for {'activation': 'tanh', 'hidden_layer_sizes': 2, 'learning_rate_init': 0.001, 'momentum': 0.99}\n",
            "0.356 (+/-0.004) for {'activation': 'tanh', 'hidden_layer_sizes': 2, 'learning_rate_init': 0.01, 'momentum': 0.9}\n",
            "0.356 (+/-0.005) for {'activation': 'tanh', 'hidden_layer_sizes': 2, 'learning_rate_init': 0.01, 'momentum': 0.95}\n",
            "0.356 (+/-0.002) for {'activation': 'tanh', 'hidden_layer_sizes': 2, 'learning_rate_init': 0.01, 'momentum': 0.99}\n",
            "0.356 (+/-0.004) for {'activation': 'tanh', 'hidden_layer_sizes': 2, 'learning_rate_init': 0.1, 'momentum': 0.9}\n",
            "0.356 (+/-0.004) for {'activation': 'tanh', 'hidden_layer_sizes': 2, 'learning_rate_init': 0.1, 'momentum': 0.95}\n",
            "0.356 (+/-0.004) for {'activation': 'tanh', 'hidden_layer_sizes': 2, 'learning_rate_init': 0.1, 'momentum': 0.99}\n",
            "0.356 (+/-0.004) for {'activation': 'tanh', 'hidden_layer_sizes': (5, 2), 'learning_rate_init': 0.001, 'momentum': 0.9}\n",
            "0.356 (+/-0.004) for {'activation': 'tanh', 'hidden_layer_sizes': (5, 2), 'learning_rate_init': 0.001, 'momentum': 0.95}\n",
            "0.354 (+/-0.010) for {'activation': 'tanh', 'hidden_layer_sizes': (5, 2), 'learning_rate_init': 0.001, 'momentum': 0.99}\n",
            "0.356 (+/-0.004) for {'activation': 'tanh', 'hidden_layer_sizes': (5, 2), 'learning_rate_init': 0.01, 'momentum': 0.9}\n",
            "0.401 (+/-0.179) for {'activation': 'tanh', 'hidden_layer_sizes': (5, 2), 'learning_rate_init': 0.01, 'momentum': 0.95}\n",
            "0.356 (+/-0.004) for {'activation': 'tanh', 'hidden_layer_sizes': (5, 2), 'learning_rate_init': 0.01, 'momentum': 0.99}\n",
            "0.356 (+/-0.004) for {'activation': 'tanh', 'hidden_layer_sizes': (5, 2), 'learning_rate_init': 0.1, 'momentum': 0.9}\n",
            "0.356 (+/-0.004) for {'activation': 'tanh', 'hidden_layer_sizes': (5, 2), 'learning_rate_init': 0.1, 'momentum': 0.95}\n",
            "0.356 (+/-0.004) for {'activation': 'tanh', 'hidden_layer_sizes': (5, 2), 'learning_rate_init': 0.1, 'momentum': 0.99}\n",
            "0.355 (+/-0.007) for {'activation': 'tanh', 'hidden_layer_sizes': (3, 3, 3), 'learning_rate_init': 0.001, 'momentum': 0.9}\n",
            "0.354 (+/-0.008) for {'activation': 'tanh', 'hidden_layer_sizes': (3, 3, 3), 'learning_rate_init': 0.001, 'momentum': 0.95}\n",
            "0.356 (+/-0.004) for {'activation': 'tanh', 'hidden_layer_sizes': (3, 3, 3), 'learning_rate_init': 0.001, 'momentum': 0.99}\n",
            "0.407 (+/-0.210) for {'activation': 'tanh', 'hidden_layer_sizes': (3, 3, 3), 'learning_rate_init': 0.01, 'momentum': 0.9}\n",
            "0.356 (+/-0.004) for {'activation': 'tanh', 'hidden_layer_sizes': (3, 3, 3), 'learning_rate_init': 0.01, 'momentum': 0.95}\n",
            "0.356 (+/-0.004) for {'activation': 'tanh', 'hidden_layer_sizes': (3, 3, 3), 'learning_rate_init': 0.01, 'momentum': 0.99}\n",
            "0.356 (+/-0.004) for {'activation': 'tanh', 'hidden_layer_sizes': (3, 3, 3), 'learning_rate_init': 0.1, 'momentum': 0.9}\n",
            "0.356 (+/-0.004) for {'activation': 'tanh', 'hidden_layer_sizes': (3, 3, 3), 'learning_rate_init': 0.1, 'momentum': 0.95}\n",
            "0.356 (+/-0.004) for {'activation': 'tanh', 'hidden_layer_sizes': (3, 3, 3), 'learning_rate_init': 0.1, 'momentum': 0.99}\n",
            "0.419 (+/-0.251) for {'activation': 'tanh', 'hidden_layer_sizes': (5, 3, 2), 'learning_rate_init': 0.001, 'momentum': 0.9}\n",
            "0.356 (+/-0.004) for {'activation': 'tanh', 'hidden_layer_sizes': (5, 3, 2), 'learning_rate_init': 0.001, 'momentum': 0.95}\n",
            "0.390 (+/-0.131) for {'activation': 'tanh', 'hidden_layer_sizes': (5, 3, 2), 'learning_rate_init': 0.001, 'momentum': 0.99}\n",
            "0.356 (+/-0.004) for {'activation': 'tanh', 'hidden_layer_sizes': (5, 3, 2), 'learning_rate_init': 0.01, 'momentum': 0.9}\n",
            "0.458 (+/-0.406) for {'activation': 'tanh', 'hidden_layer_sizes': (5, 3, 2), 'learning_rate_init': 0.01, 'momentum': 0.95}\n",
            "0.428 (+/-0.288) for {'activation': 'tanh', 'hidden_layer_sizes': (5, 3, 2), 'learning_rate_init': 0.01, 'momentum': 0.99}\n",
            "0.356 (+/-0.004) for {'activation': 'tanh', 'hidden_layer_sizes': (5, 3, 2), 'learning_rate_init': 0.1, 'momentum': 0.9}\n",
            "0.356 (+/-0.004) for {'activation': 'tanh', 'hidden_layer_sizes': (5, 3, 2), 'learning_rate_init': 0.1, 'momentum': 0.95}\n",
            "0.356 (+/-0.004) for {'activation': 'tanh', 'hidden_layer_sizes': (5, 3, 2), 'learning_rate_init': 0.1, 'momentum': 0.99}\n",
            "0.356 (+/-0.004) for {'activation': 'tanh', 'hidden_layer_sizes': (5, 4, 3, 2), 'learning_rate_init': 0.001, 'momentum': 0.9}\n",
            "0.356 (+/-0.004) for {'activation': 'tanh', 'hidden_layer_sizes': (5, 4, 3, 2), 'learning_rate_init': 0.001, 'momentum': 0.95}\n",
            "0.356 (+/-0.002) for {'activation': 'tanh', 'hidden_layer_sizes': (5, 4, 3, 2), 'learning_rate_init': 0.001, 'momentum': 0.99}\n",
            "0.410 (+/-0.212) for {'activation': 'tanh', 'hidden_layer_sizes': (5, 4, 3, 2), 'learning_rate_init': 0.01, 'momentum': 0.9}\n",
            "0.466 (+/-0.273) for {'activation': 'tanh', 'hidden_layer_sizes': (5, 4, 3, 2), 'learning_rate_init': 0.01, 'momentum': 0.95}\n",
            "0.356 (+/-0.004) for {'activation': 'tanh', 'hidden_layer_sizes': (5, 4, 3, 2), 'learning_rate_init': 0.01, 'momentum': 0.99}\n",
            "0.356 (+/-0.004) for {'activation': 'tanh', 'hidden_layer_sizes': (5, 4, 3, 2), 'learning_rate_init': 0.1, 'momentum': 0.9}\n",
            "0.356 (+/-0.004) for {'activation': 'tanh', 'hidden_layer_sizes': (5, 4, 3, 2), 'learning_rate_init': 0.1, 'momentum': 0.95}\n",
            "0.356 (+/-0.004) for {'activation': 'tanh', 'hidden_layer_sizes': (5, 4, 3, 2), 'learning_rate_init': 0.1, 'momentum': 0.99}\n",
            "0.323 (+/-0.449) for {'activation': 'relu', 'hidden_layer_sizes': 2, 'learning_rate_init': 0.001, 'momentum': 0.9}\n",
            "0.373 (+/-0.321) for {'activation': 'relu', 'hidden_layer_sizes': 2, 'learning_rate_init': 0.001, 'momentum': 0.95}\n",
            "0.356 (+/-0.004) for {'activation': 'relu', 'hidden_layer_sizes': 2, 'learning_rate_init': 0.001, 'momentum': 0.99}\n",
            "0.356 (+/-0.002) for {'activation': 'relu', 'hidden_layer_sizes': 2, 'learning_rate_init': 0.01, 'momentum': 0.9}\n",
            "0.356 (+/-0.004) for {'activation': 'relu', 'hidden_layer_sizes': 2, 'learning_rate_init': 0.01, 'momentum': 0.95}\n",
            "0.356 (+/-0.004) for {'activation': 'relu', 'hidden_layer_sizes': 2, 'learning_rate_init': 0.01, 'momentum': 0.99}\n",
            "0.356 (+/-0.004) for {'activation': 'relu', 'hidden_layer_sizes': 2, 'learning_rate_init': 0.1, 'momentum': 0.9}\n",
            "0.356 (+/-0.004) for {'activation': 'relu', 'hidden_layer_sizes': 2, 'learning_rate_init': 0.1, 'momentum': 0.95}\n",
            "0.356 (+/-0.004) for {'activation': 'relu', 'hidden_layer_sizes': 2, 'learning_rate_init': 0.1, 'momentum': 0.99}\n",
            "0.347 (+/-0.242) for {'activation': 'relu', 'hidden_layer_sizes': (5, 2), 'learning_rate_init': 0.001, 'momentum': 0.9}\n",
            "0.361 (+/-0.286) for {'activation': 'relu', 'hidden_layer_sizes': (5, 2), 'learning_rate_init': 0.001, 'momentum': 0.95}\n",
            "0.271 (+/-0.209) for {'activation': 'relu', 'hidden_layer_sizes': (5, 2), 'learning_rate_init': 0.001, 'momentum': 0.99}\n",
            "0.412 (+/-0.223) for {'activation': 'relu', 'hidden_layer_sizes': (5, 2), 'learning_rate_init': 0.01, 'momentum': 0.9}\n",
            "0.435 (+/-0.313) for {'activation': 'relu', 'hidden_layer_sizes': (5, 2), 'learning_rate_init': 0.01, 'momentum': 0.95}\n",
            "0.435 (+/-0.212) for {'activation': 'relu', 'hidden_layer_sizes': (5, 2), 'learning_rate_init': 0.01, 'momentum': 0.99}\n",
            "0.356 (+/-0.004) for {'activation': 'relu', 'hidden_layer_sizes': (5, 2), 'learning_rate_init': 0.1, 'momentum': 0.9}\n",
            "0.356 (+/-0.004) for {'activation': 'relu', 'hidden_layer_sizes': (5, 2), 'learning_rate_init': 0.1, 'momentum': 0.95}\n",
            "0.356 (+/-0.004) for {'activation': 'relu', 'hidden_layer_sizes': (5, 2), 'learning_rate_init': 0.1, 'momentum': 0.99}\n",
            "0.423 (+/-0.198) for {'activation': 'relu', 'hidden_layer_sizes': (3, 3, 3), 'learning_rate_init': 0.001, 'momentum': 0.9}\n",
            "0.398 (+/-0.321) for {'activation': 'relu', 'hidden_layer_sizes': (3, 3, 3), 'learning_rate_init': 0.001, 'momentum': 0.95}\n",
            "0.456 (+/-0.249) for {'activation': 'relu', 'hidden_layer_sizes': (3, 3, 3), 'learning_rate_init': 0.001, 'momentum': 0.99}\n",
            "0.408 (+/-0.214) for {'activation': 'relu', 'hidden_layer_sizes': (3, 3, 3), 'learning_rate_init': 0.01, 'momentum': 0.9}\n",
            "0.356 (+/-0.004) for {'activation': 'relu', 'hidden_layer_sizes': (3, 3, 3), 'learning_rate_init': 0.01, 'momentum': 0.95}\n",
            "0.389 (+/-0.136) for {'activation': 'relu', 'hidden_layer_sizes': (3, 3, 3), 'learning_rate_init': 0.01, 'momentum': 0.99}\n",
            "0.356 (+/-0.005) for {'activation': 'relu', 'hidden_layer_sizes': (3, 3, 3), 'learning_rate_init': 0.1, 'momentum': 0.9}\n",
            "0.356 (+/-0.004) for {'activation': 'relu', 'hidden_layer_sizes': (3, 3, 3), 'learning_rate_init': 0.1, 'momentum': 0.95}\n",
            "0.425 (+/-0.275) for {'activation': 'relu', 'hidden_layer_sizes': (3, 3, 3), 'learning_rate_init': 0.1, 'momentum': 0.99}\n",
            "0.411 (+/-0.358) for {'activation': 'relu', 'hidden_layer_sizes': (5, 3, 2), 'learning_rate_init': 0.001, 'momentum': 0.9}\n",
            "0.356 (+/-0.263) for {'activation': 'relu', 'hidden_layer_sizes': (5, 3, 2), 'learning_rate_init': 0.001, 'momentum': 0.95}\n",
            "0.383 (+/-0.107) for {'activation': 'relu', 'hidden_layer_sizes': (5, 3, 2), 'learning_rate_init': 0.001, 'momentum': 0.99}\n",
            "0.401 (+/-0.179) for {'activation': 'relu', 'hidden_layer_sizes': (5, 3, 2), 'learning_rate_init': 0.01, 'momentum': 0.9}\n",
            "0.474 (+/-0.204) for {'activation': 'relu', 'hidden_layer_sizes': (5, 3, 2), 'learning_rate_init': 0.01, 'momentum': 0.95}\n",
            "0.393 (+/-0.145) for {'activation': 'relu', 'hidden_layer_sizes': (5, 3, 2), 'learning_rate_init': 0.01, 'momentum': 0.99}\n",
            "0.356 (+/-0.004) for {'activation': 'relu', 'hidden_layer_sizes': (5, 3, 2), 'learning_rate_init': 0.1, 'momentum': 0.9}\n",
            "0.356 (+/-0.004) for {'activation': 'relu', 'hidden_layer_sizes': (5, 3, 2), 'learning_rate_init': 0.1, 'momentum': 0.95}\n",
            "0.356 (+/-0.004) for {'activation': 'relu', 'hidden_layer_sizes': (5, 3, 2), 'learning_rate_init': 0.1, 'momentum': 0.99}\n",
            "0.346 (+/-0.240) for {'activation': 'relu', 'hidden_layer_sizes': (5, 4, 3, 2), 'learning_rate_init': 0.001, 'momentum': 0.9}\n",
            "0.356 (+/-0.004) for {'activation': 'relu', 'hidden_layer_sizes': (5, 4, 3, 2), 'learning_rate_init': 0.001, 'momentum': 0.95}\n",
            "0.294 (+/-0.263) for {'activation': 'relu', 'hidden_layer_sizes': (5, 4, 3, 2), 'learning_rate_init': 0.001, 'momentum': 0.99}\n",
            "0.452 (+/-0.232) for {'activation': 'relu', 'hidden_layer_sizes': (5, 4, 3, 2), 'learning_rate_init': 0.01, 'momentum': 0.9}\n",
            "0.449 (+/-0.246) for {'activation': 'relu', 'hidden_layer_sizes': (5, 4, 3, 2), 'learning_rate_init': 0.01, 'momentum': 0.95}\n",
            "0.416 (+/-0.165) for {'activation': 'relu', 'hidden_layer_sizes': (5, 4, 3, 2), 'learning_rate_init': 0.01, 'momentum': 0.99}\n",
            "0.356 (+/-0.004) for {'activation': 'relu', 'hidden_layer_sizes': (5, 4, 3, 2), 'learning_rate_init': 0.1, 'momentum': 0.9}\n",
            "0.356 (+/-0.004) for {'activation': 'relu', 'hidden_layer_sizes': (5, 4, 3, 2), 'learning_rate_init': 0.1, 'momentum': 0.95}\n",
            "0.398 (+/-0.165) for {'activation': 'relu', 'hidden_layer_sizes': (5, 4, 3, 2), 'learning_rate_init': 0.1, 'momentum': 0.99}\n",
            "# Tuning hyper-parameters for recall\n",
            "\n"
          ],
          "name": "stdout"
        },
        {
          "output_type": "stream",
          "text": [
            "/usr/local/lib/python3.6/dist-packages/sklearn/model_selection/_search.py:841: DeprecationWarning: The default of the `iid` parameter will change from True to False in version 0.22 and will be removed in 0.24. This will change numeric results when test-set sizes are unequal.\n",
            "  DeprecationWarning)\n"
          ],
          "name": "stderr"
        },
        {
          "output_type": "stream",
          "text": [
            "Best parameters set found on development set:\n",
            "\n",
            "{'activation': 'identity', 'hidden_layer_sizes': (5, 3, 2), 'learning_rate_init': 0.01, 'momentum': 0.99}\n",
            "\n",
            "Grid scores on development set:\n",
            "\n",
            "0.529 (+/-0.072) for {'activation': 'identity', 'hidden_layer_sizes': 2, 'learning_rate_init': 0.001, 'momentum': 0.9}\n",
            "0.531 (+/-0.139) for {'activation': 'identity', 'hidden_layer_sizes': 2, 'learning_rate_init': 0.001, 'momentum': 0.95}\n",
            "0.589 (+/-0.113) for {'activation': 'identity', 'hidden_layer_sizes': 2, 'learning_rate_init': 0.001, 'momentum': 0.99}\n",
            "0.574 (+/-0.191) for {'activation': 'identity', 'hidden_layer_sizes': 2, 'learning_rate_init': 0.01, 'momentum': 0.9}\n",
            "0.509 (+/-0.097) for {'activation': 'identity', 'hidden_layer_sizes': 2, 'learning_rate_init': 0.01, 'momentum': 0.95}\n",
            "0.555 (+/-0.100) for {'activation': 'identity', 'hidden_layer_sizes': 2, 'learning_rate_init': 0.01, 'momentum': 0.99}\n",
            "0.572 (+/-0.173) for {'activation': 'identity', 'hidden_layer_sizes': 2, 'learning_rate_init': 0.1, 'momentum': 0.9}\n",
            "0.564 (+/-0.080) for {'activation': 'identity', 'hidden_layer_sizes': 2, 'learning_rate_init': 0.1, 'momentum': 0.95}\n",
            "0.504 (+/-0.020) for {'activation': 'identity', 'hidden_layer_sizes': 2, 'learning_rate_init': 0.1, 'momentum': 0.99}\n",
            "0.552 (+/-0.085) for {'activation': 'identity', 'hidden_layer_sizes': (5, 2), 'learning_rate_init': 0.001, 'momentum': 0.9}\n",
            "0.555 (+/-0.103) for {'activation': 'identity', 'hidden_layer_sizes': (5, 2), 'learning_rate_init': 0.001, 'momentum': 0.95}\n",
            "0.564 (+/-0.166) for {'activation': 'identity', 'hidden_layer_sizes': (5, 2), 'learning_rate_init': 0.001, 'momentum': 0.99}\n",
            "0.550 (+/-0.109) for {'activation': 'identity', 'hidden_layer_sizes': (5, 2), 'learning_rate_init': 0.01, 'momentum': 0.9}\n",
            "0.521 (+/-0.051) for {'activation': 'identity', 'hidden_layer_sizes': (5, 2), 'learning_rate_init': 0.01, 'momentum': 0.95}\n",
            "0.549 (+/-0.143) for {'activation': 'identity', 'hidden_layer_sizes': (5, 2), 'learning_rate_init': 0.01, 'momentum': 0.99}\n",
            "0.528 (+/-0.072) for {'activation': 'identity', 'hidden_layer_sizes': (5, 2), 'learning_rate_init': 0.1, 'momentum': 0.9}\n",
            "0.563 (+/-0.187) for {'activation': 'identity', 'hidden_layer_sizes': (5, 2), 'learning_rate_init': 0.1, 'momentum': 0.95}\n",
            "0.535 (+/-0.098) for {'activation': 'identity', 'hidden_layer_sizes': (5, 2), 'learning_rate_init': 0.1, 'momentum': 0.99}\n",
            "0.562 (+/-0.133) for {'activation': 'identity', 'hidden_layer_sizes': (3, 3, 3), 'learning_rate_init': 0.001, 'momentum': 0.9}\n",
            "0.570 (+/-0.144) for {'activation': 'identity', 'hidden_layer_sizes': (3, 3, 3), 'learning_rate_init': 0.001, 'momentum': 0.95}\n",
            "0.562 (+/-0.149) for {'activation': 'identity', 'hidden_layer_sizes': (3, 3, 3), 'learning_rate_init': 0.001, 'momentum': 0.99}\n",
            "0.517 (+/-0.158) for {'activation': 'identity', 'hidden_layer_sizes': (3, 3, 3), 'learning_rate_init': 0.01, 'momentum': 0.9}\n",
            "0.516 (+/-0.044) for {'activation': 'identity', 'hidden_layer_sizes': (3, 3, 3), 'learning_rate_init': 0.01, 'momentum': 0.95}\n",
            "0.535 (+/-0.115) for {'activation': 'identity', 'hidden_layer_sizes': (3, 3, 3), 'learning_rate_init': 0.01, 'momentum': 0.99}\n",
            "0.571 (+/-0.049) for {'activation': 'identity', 'hidden_layer_sizes': (3, 3, 3), 'learning_rate_init': 0.1, 'momentum': 0.9}\n",
            "0.574 (+/-0.131) for {'activation': 'identity', 'hidden_layer_sizes': (3, 3, 3), 'learning_rate_init': 0.1, 'momentum': 0.95}\n",
            "0.548 (+/-0.164) for {'activation': 'identity', 'hidden_layer_sizes': (3, 3, 3), 'learning_rate_init': 0.1, 'momentum': 0.99}\n",
            "0.511 (+/-0.067) for {'activation': 'identity', 'hidden_layer_sizes': (5, 3, 2), 'learning_rate_init': 0.001, 'momentum': 0.9}\n",
            "0.555 (+/-0.170) for {'activation': 'identity', 'hidden_layer_sizes': (5, 3, 2), 'learning_rate_init': 0.001, 'momentum': 0.95}\n",
            "0.542 (+/-0.105) for {'activation': 'identity', 'hidden_layer_sizes': (5, 3, 2), 'learning_rate_init': 0.001, 'momentum': 0.99}\n",
            "0.543 (+/-0.081) for {'activation': 'identity', 'hidden_layer_sizes': (5, 3, 2), 'learning_rate_init': 0.01, 'momentum': 0.9}\n",
            "0.515 (+/-0.044) for {'activation': 'identity', 'hidden_layer_sizes': (5, 3, 2), 'learning_rate_init': 0.01, 'momentum': 0.95}\n",
            "0.594 (+/-0.103) for {'activation': 'identity', 'hidden_layer_sizes': (5, 3, 2), 'learning_rate_init': 0.01, 'momentum': 0.99}\n",
            "0.500 (+/-0.036) for {'activation': 'identity', 'hidden_layer_sizes': (5, 3, 2), 'learning_rate_init': 0.1, 'momentum': 0.9}\n",
            "0.546 (+/-0.188) for {'activation': 'identity', 'hidden_layer_sizes': (5, 3, 2), 'learning_rate_init': 0.1, 'momentum': 0.95}\n",
            "0.500 (+/-0.099) for {'activation': 'identity', 'hidden_layer_sizes': (5, 3, 2), 'learning_rate_init': 0.1, 'momentum': 0.99}\n",
            "0.570 (+/-0.121) for {'activation': 'identity', 'hidden_layer_sizes': (5, 4, 3, 2), 'learning_rate_init': 0.001, 'momentum': 0.9}\n",
            "0.531 (+/-0.074) for {'activation': 'identity', 'hidden_layer_sizes': (5, 4, 3, 2), 'learning_rate_init': 0.001, 'momentum': 0.95}\n",
            "0.543 (+/-0.125) for {'activation': 'identity', 'hidden_layer_sizes': (5, 4, 3, 2), 'learning_rate_init': 0.001, 'momentum': 0.99}\n",
            "0.541 (+/-0.087) for {'activation': 'identity', 'hidden_layer_sizes': (5, 4, 3, 2), 'learning_rate_init': 0.01, 'momentum': 0.9}\n",
            "0.543 (+/-0.082) for {'activation': 'identity', 'hidden_layer_sizes': (5, 4, 3, 2), 'learning_rate_init': 0.01, 'momentum': 0.95}\n",
            "0.543 (+/-0.122) for {'activation': 'identity', 'hidden_layer_sizes': (5, 4, 3, 2), 'learning_rate_init': 0.01, 'momentum': 0.99}\n",
            "0.537 (+/-0.112) for {'activation': 'identity', 'hidden_layer_sizes': (5, 4, 3, 2), 'learning_rate_init': 0.1, 'momentum': 0.9}\n",
            "0.559 (+/-0.148) for {'activation': 'identity', 'hidden_layer_sizes': (5, 4, 3, 2), 'learning_rate_init': 0.1, 'momentum': 0.95}\n",
            "0.546 (+/-0.092) for {'activation': 'identity', 'hidden_layer_sizes': (5, 4, 3, 2), 'learning_rate_init': 0.1, 'momentum': 0.99}\n",
            "0.500 (+/-0.000) for {'activation': 'logistic', 'hidden_layer_sizes': 2, 'learning_rate_init': 0.001, 'momentum': 0.9}\n",
            "0.498 (+/-0.009) for {'activation': 'logistic', 'hidden_layer_sizes': 2, 'learning_rate_init': 0.001, 'momentum': 0.95}\n",
            "0.491 (+/-0.034) for {'activation': 'logistic', 'hidden_layer_sizes': 2, 'learning_rate_init': 0.001, 'momentum': 0.99}\n",
            "0.511 (+/-0.045) for {'activation': 'logistic', 'hidden_layer_sizes': 2, 'learning_rate_init': 0.01, 'momentum': 0.9}\n",
            "0.500 (+/-0.000) for {'activation': 'logistic', 'hidden_layer_sizes': 2, 'learning_rate_init': 0.01, 'momentum': 0.95}\n",
            "0.500 (+/-0.000) for {'activation': 'logistic', 'hidden_layer_sizes': 2, 'learning_rate_init': 0.01, 'momentum': 0.99}\n",
            "0.500 (+/-0.000) for {'activation': 'logistic', 'hidden_layer_sizes': 2, 'learning_rate_init': 0.1, 'momentum': 0.9}\n",
            "0.500 (+/-0.000) for {'activation': 'logistic', 'hidden_layer_sizes': 2, 'learning_rate_init': 0.1, 'momentum': 0.95}\n",
            "0.500 (+/-0.000) for {'activation': 'logistic', 'hidden_layer_sizes': 2, 'learning_rate_init': 0.1, 'momentum': 0.99}\n",
            "0.500 (+/-0.000) for {'activation': 'logistic', 'hidden_layer_sizes': (5, 2), 'learning_rate_init': 0.001, 'momentum': 0.9}\n",
            "0.500 (+/-0.000) for {'activation': 'logistic', 'hidden_layer_sizes': (5, 2), 'learning_rate_init': 0.001, 'momentum': 0.95}\n",
            "0.500 (+/-0.000) for {'activation': 'logistic', 'hidden_layer_sizes': (5, 2), 'learning_rate_init': 0.001, 'momentum': 0.99}\n",
            "0.504 (+/-0.014) for {'activation': 'logistic', 'hidden_layer_sizes': (5, 2), 'learning_rate_init': 0.01, 'momentum': 0.9}\n",
            "0.514 (+/-0.058) for {'activation': 'logistic', 'hidden_layer_sizes': (5, 2), 'learning_rate_init': 0.01, 'momentum': 0.95}\n",
            "0.520 (+/-0.080) for {'activation': 'logistic', 'hidden_layer_sizes': (5, 2), 'learning_rate_init': 0.01, 'momentum': 0.99}\n",
            "0.500 (+/-0.000) for {'activation': 'logistic', 'hidden_layer_sizes': (5, 2), 'learning_rate_init': 0.1, 'momentum': 0.9}\n",
            "0.500 (+/-0.000) for {'activation': 'logistic', 'hidden_layer_sizes': (5, 2), 'learning_rate_init': 0.1, 'momentum': 0.95}\n",
            "0.500 (+/-0.000) for {'activation': 'logistic', 'hidden_layer_sizes': (5, 2), 'learning_rate_init': 0.1, 'momentum': 0.99}\n",
            "0.500 (+/-0.000) for {'activation': 'logistic', 'hidden_layer_sizes': (3, 3, 3), 'learning_rate_init': 0.001, 'momentum': 0.9}\n",
            "0.500 (+/-0.000) for {'activation': 'logistic', 'hidden_layer_sizes': (3, 3, 3), 'learning_rate_init': 0.001, 'momentum': 0.95}\n",
            "0.500 (+/-0.000) for {'activation': 'logistic', 'hidden_layer_sizes': (3, 3, 3), 'learning_rate_init': 0.001, 'momentum': 0.99}\n",
            "0.500 (+/-0.000) for {'activation': 'logistic', 'hidden_layer_sizes': (3, 3, 3), 'learning_rate_init': 0.01, 'momentum': 0.9}\n",
            "0.500 (+/-0.000) for {'activation': 'logistic', 'hidden_layer_sizes': (3, 3, 3), 'learning_rate_init': 0.01, 'momentum': 0.95}\n",
            "0.500 (+/-0.000) for {'activation': 'logistic', 'hidden_layer_sizes': (3, 3, 3), 'learning_rate_init': 0.01, 'momentum': 0.99}\n",
            "0.500 (+/-0.000) for {'activation': 'logistic', 'hidden_layer_sizes': (3, 3, 3), 'learning_rate_init': 0.1, 'momentum': 0.9}\n",
            "0.500 (+/-0.000) for {'activation': 'logistic', 'hidden_layer_sizes': (3, 3, 3), 'learning_rate_init': 0.1, 'momentum': 0.95}\n",
            "0.500 (+/-0.000) for {'activation': 'logistic', 'hidden_layer_sizes': (3, 3, 3), 'learning_rate_init': 0.1, 'momentum': 0.99}\n",
            "0.500 (+/-0.000) for {'activation': 'logistic', 'hidden_layer_sizes': (5, 3, 2), 'learning_rate_init': 0.001, 'momentum': 0.9}\n",
            "0.500 (+/-0.000) for {'activation': 'logistic', 'hidden_layer_sizes': (5, 3, 2), 'learning_rate_init': 0.001, 'momentum': 0.95}\n",
            "0.500 (+/-0.000) for {'activation': 'logistic', 'hidden_layer_sizes': (5, 3, 2), 'learning_rate_init': 0.001, 'momentum': 0.99}\n",
            "0.500 (+/-0.000) for {'activation': 'logistic', 'hidden_layer_sizes': (5, 3, 2), 'learning_rate_init': 0.01, 'momentum': 0.9}\n",
            "0.488 (+/-0.050) for {'activation': 'logistic', 'hidden_layer_sizes': (5, 3, 2), 'learning_rate_init': 0.01, 'momentum': 0.95}\n",
            "0.500 (+/-0.000) for {'activation': 'logistic', 'hidden_layer_sizes': (5, 3, 2), 'learning_rate_init': 0.01, 'momentum': 0.99}\n",
            "0.500 (+/-0.000) for {'activation': 'logistic', 'hidden_layer_sizes': (5, 3, 2), 'learning_rate_init': 0.1, 'momentum': 0.9}\n",
            "0.500 (+/-0.000) for {'activation': 'logistic', 'hidden_layer_sizes': (5, 3, 2), 'learning_rate_init': 0.1, 'momentum': 0.95}\n",
            "0.500 (+/-0.000) for {'activation': 'logistic', 'hidden_layer_sizes': (5, 3, 2), 'learning_rate_init': 0.1, 'momentum': 0.99}\n",
            "0.500 (+/-0.000) for {'activation': 'logistic', 'hidden_layer_sizes': (5, 4, 3, 2), 'learning_rate_init': 0.001, 'momentum': 0.9}\n",
            "0.500 (+/-0.000) for {'activation': 'logistic', 'hidden_layer_sizes': (5, 4, 3, 2), 'learning_rate_init': 0.001, 'momentum': 0.95}\n",
            "0.500 (+/-0.000) for {'activation': 'logistic', 'hidden_layer_sizes': (5, 4, 3, 2), 'learning_rate_init': 0.001, 'momentum': 0.99}\n",
            "0.500 (+/-0.000) for {'activation': 'logistic', 'hidden_layer_sizes': (5, 4, 3, 2), 'learning_rate_init': 0.01, 'momentum': 0.9}\n",
            "0.500 (+/-0.000) for {'activation': 'logistic', 'hidden_layer_sizes': (5, 4, 3, 2), 'learning_rate_init': 0.01, 'momentum': 0.95}\n",
            "0.500 (+/-0.000) for {'activation': 'logistic', 'hidden_layer_sizes': (5, 4, 3, 2), 'learning_rate_init': 0.01, 'momentum': 0.99}\n",
            "0.500 (+/-0.000) for {'activation': 'logistic', 'hidden_layer_sizes': (5, 4, 3, 2), 'learning_rate_init': 0.1, 'momentum': 0.9}\n",
            "0.500 (+/-0.000) for {'activation': 'logistic', 'hidden_layer_sizes': (5, 4, 3, 2), 'learning_rate_init': 0.1, 'momentum': 0.95}\n",
            "0.500 (+/-0.000) for {'activation': 'logistic', 'hidden_layer_sizes': (5, 4, 3, 2), 'learning_rate_init': 0.1, 'momentum': 0.99}\n",
            "0.496 (+/-0.017) for {'activation': 'tanh', 'hidden_layer_sizes': 2, 'learning_rate_init': 0.001, 'momentum': 0.9}\n",
            "0.501 (+/-0.017) for {'activation': 'tanh', 'hidden_layer_sizes': 2, 'learning_rate_init': 0.001, 'momentum': 0.95}\n",
            "0.499 (+/-0.093) for {'activation': 'tanh', 'hidden_layer_sizes': 2, 'learning_rate_init': 0.001, 'momentum': 0.99}\n",
            "0.498 (+/-0.009) for {'activation': 'tanh', 'hidden_layer_sizes': 2, 'learning_rate_init': 0.01, 'momentum': 0.9}\n",
            "0.500 (+/-0.000) for {'activation': 'tanh', 'hidden_layer_sizes': 2, 'learning_rate_init': 0.01, 'momentum': 0.95}\n",
            "0.500 (+/-0.000) for {'activation': 'tanh', 'hidden_layer_sizes': 2, 'learning_rate_init': 0.01, 'momentum': 0.99}\n",
            "0.500 (+/-0.000) for {'activation': 'tanh', 'hidden_layer_sizes': 2, 'learning_rate_init': 0.1, 'momentum': 0.9}\n",
            "0.500 (+/-0.000) for {'activation': 'tanh', 'hidden_layer_sizes': 2, 'learning_rate_init': 0.1, 'momentum': 0.95}\n",
            "0.500 (+/-0.000) for {'activation': 'tanh', 'hidden_layer_sizes': 2, 'learning_rate_init': 0.1, 'momentum': 0.99}\n",
            "0.496 (+/-0.017) for {'activation': 'tanh', 'hidden_layer_sizes': (5, 2), 'learning_rate_init': 0.001, 'momentum': 0.9}\n",
            "0.494 (+/-0.011) for {'activation': 'tanh', 'hidden_layer_sizes': (5, 2), 'learning_rate_init': 0.001, 'momentum': 0.95}\n",
            "0.509 (+/-0.049) for {'activation': 'tanh', 'hidden_layer_sizes': (5, 2), 'learning_rate_init': 0.001, 'momentum': 0.99}\n",
            "0.500 (+/-0.000) for {'activation': 'tanh', 'hidden_layer_sizes': (5, 2), 'learning_rate_init': 0.01, 'momentum': 0.9}\n",
            "0.500 (+/-0.000) for {'activation': 'tanh', 'hidden_layer_sizes': (5, 2), 'learning_rate_init': 0.01, 'momentum': 0.95}\n",
            "0.476 (+/-0.094) for {'activation': 'tanh', 'hidden_layer_sizes': (5, 2), 'learning_rate_init': 0.01, 'momentum': 0.99}\n",
            "0.500 (+/-0.000) for {'activation': 'tanh', 'hidden_layer_sizes': (5, 2), 'learning_rate_init': 0.1, 'momentum': 0.9}\n",
            "0.500 (+/-0.000) for {'activation': 'tanh', 'hidden_layer_sizes': (5, 2), 'learning_rate_init': 0.1, 'momentum': 0.95}\n",
            "0.500 (+/-0.000) for {'activation': 'tanh', 'hidden_layer_sizes': (5, 2), 'learning_rate_init': 0.1, 'momentum': 0.99}\n",
            "0.496 (+/-0.009) for {'activation': 'tanh', 'hidden_layer_sizes': (3, 3, 3), 'learning_rate_init': 0.001, 'momentum': 0.9}\n",
            "0.498 (+/-0.009) for {'activation': 'tanh', 'hidden_layer_sizes': (3, 3, 3), 'learning_rate_init': 0.001, 'momentum': 0.95}\n",
            "0.500 (+/-0.000) for {'activation': 'tanh', 'hidden_layer_sizes': (3, 3, 3), 'learning_rate_init': 0.001, 'momentum': 0.99}\n",
            "0.500 (+/-0.000) for {'activation': 'tanh', 'hidden_layer_sizes': (3, 3, 3), 'learning_rate_init': 0.01, 'momentum': 0.9}\n",
            "0.500 (+/-0.000) for {'activation': 'tanh', 'hidden_layer_sizes': (3, 3, 3), 'learning_rate_init': 0.01, 'momentum': 0.95}\n",
            "0.500 (+/-0.000) for {'activation': 'tanh', 'hidden_layer_sizes': (3, 3, 3), 'learning_rate_init': 0.01, 'momentum': 0.99}\n",
            "0.500 (+/-0.000) for {'activation': 'tanh', 'hidden_layer_sizes': (3, 3, 3), 'learning_rate_init': 0.1, 'momentum': 0.9}\n",
            "0.500 (+/-0.000) for {'activation': 'tanh', 'hidden_layer_sizes': (3, 3, 3), 'learning_rate_init': 0.1, 'momentum': 0.95}\n",
            "0.500 (+/-0.000) for {'activation': 'tanh', 'hidden_layer_sizes': (3, 3, 3), 'learning_rate_init': 0.1, 'momentum': 0.99}\n",
            "0.498 (+/-0.009) for {'activation': 'tanh', 'hidden_layer_sizes': (5, 3, 2), 'learning_rate_init': 0.001, 'momentum': 0.9}\n",
            "0.504 (+/-0.043) for {'activation': 'tanh', 'hidden_layer_sizes': (5, 3, 2), 'learning_rate_init': 0.001, 'momentum': 0.95}\n",
            "0.487 (+/-0.025) for {'activation': 'tanh', 'hidden_layer_sizes': (5, 3, 2), 'learning_rate_init': 0.001, 'momentum': 0.99}\n",
            "0.500 (+/-0.000) for {'activation': 'tanh', 'hidden_layer_sizes': (5, 3, 2), 'learning_rate_init': 0.01, 'momentum': 0.9}\n",
            "0.500 (+/-0.000) for {'activation': 'tanh', 'hidden_layer_sizes': (5, 3, 2), 'learning_rate_init': 0.01, 'momentum': 0.95}\n",
            "0.500 (+/-0.000) for {'activation': 'tanh', 'hidden_layer_sizes': (5, 3, 2), 'learning_rate_init': 0.01, 'momentum': 0.99}\n",
            "0.500 (+/-0.000) for {'activation': 'tanh', 'hidden_layer_sizes': (5, 3, 2), 'learning_rate_init': 0.1, 'momentum': 0.9}\n",
            "0.500 (+/-0.000) for {'activation': 'tanh', 'hidden_layer_sizes': (5, 3, 2), 'learning_rate_init': 0.1, 'momentum': 0.95}\n",
            "0.500 (+/-0.000) for {'activation': 'tanh', 'hidden_layer_sizes': (5, 3, 2), 'learning_rate_init': 0.1, 'momentum': 0.99}\n",
            "0.498 (+/-0.009) for {'activation': 'tanh', 'hidden_layer_sizes': (5, 4, 3, 2), 'learning_rate_init': 0.001, 'momentum': 0.9}\n",
            "0.500 (+/-0.000) for {'activation': 'tanh', 'hidden_layer_sizes': (5, 4, 3, 2), 'learning_rate_init': 0.001, 'momentum': 0.95}\n",
            "0.517 (+/-0.067) for {'activation': 'tanh', 'hidden_layer_sizes': (5, 4, 3, 2), 'learning_rate_init': 0.001, 'momentum': 0.99}\n",
            "0.500 (+/-0.000) for {'activation': 'tanh', 'hidden_layer_sizes': (5, 4, 3, 2), 'learning_rate_init': 0.01, 'momentum': 0.9}\n",
            "0.516 (+/-0.063) for {'activation': 'tanh', 'hidden_layer_sizes': (5, 4, 3, 2), 'learning_rate_init': 0.01, 'momentum': 0.95}\n",
            "0.519 (+/-0.076) for {'activation': 'tanh', 'hidden_layer_sizes': (5, 4, 3, 2), 'learning_rate_init': 0.01, 'momentum': 0.99}\n",
            "0.500 (+/-0.000) for {'activation': 'tanh', 'hidden_layer_sizes': (5, 4, 3, 2), 'learning_rate_init': 0.1, 'momentum': 0.9}\n",
            "0.500 (+/-0.000) for {'activation': 'tanh', 'hidden_layer_sizes': (5, 4, 3, 2), 'learning_rate_init': 0.1, 'momentum': 0.95}\n",
            "0.500 (+/-0.000) for {'activation': 'tanh', 'hidden_layer_sizes': (5, 4, 3, 2), 'learning_rate_init': 0.1, 'momentum': 0.99}\n",
            "0.541 (+/-0.112) for {'activation': 'relu', 'hidden_layer_sizes': 2, 'learning_rate_init': 0.001, 'momentum': 0.9}\n",
            "0.501 (+/-0.024) for {'activation': 'relu', 'hidden_layer_sizes': 2, 'learning_rate_init': 0.001, 'momentum': 0.95}\n",
            "0.526 (+/-0.113) for {'activation': 'relu', 'hidden_layer_sizes': 2, 'learning_rate_init': 0.001, 'momentum': 0.99}\n",
            "0.515 (+/-0.062) for {'activation': 'relu', 'hidden_layer_sizes': 2, 'learning_rate_init': 0.01, 'momentum': 0.9}\n",
            "0.524 (+/-0.097) for {'activation': 'relu', 'hidden_layer_sizes': 2, 'learning_rate_init': 0.01, 'momentum': 0.95}\n",
            "0.521 (+/-0.084) for {'activation': 'relu', 'hidden_layer_sizes': 2, 'learning_rate_init': 0.01, 'momentum': 0.99}\n",
            "0.534 (+/-0.137) for {'activation': 'relu', 'hidden_layer_sizes': 2, 'learning_rate_init': 0.1, 'momentum': 0.9}\n",
            "0.500 (+/-0.000) for {'activation': 'relu', 'hidden_layer_sizes': 2, 'learning_rate_init': 0.1, 'momentum': 0.95}\n",
            "0.500 (+/-0.000) for {'activation': 'relu', 'hidden_layer_sizes': 2, 'learning_rate_init': 0.1, 'momentum': 0.99}\n",
            "0.521 (+/-0.055) for {'activation': 'relu', 'hidden_layer_sizes': (5, 2), 'learning_rate_init': 0.001, 'momentum': 0.9}\n",
            "0.508 (+/-0.052) for {'activation': 'relu', 'hidden_layer_sizes': (5, 2), 'learning_rate_init': 0.001, 'momentum': 0.95}\n",
            "0.538 (+/-0.102) for {'activation': 'relu', 'hidden_layer_sizes': (5, 2), 'learning_rate_init': 0.001, 'momentum': 0.99}\n",
            "0.510 (+/-0.064) for {'activation': 'relu', 'hidden_layer_sizes': (5, 2), 'learning_rate_init': 0.01, 'momentum': 0.9}\n",
            "0.519 (+/-0.156) for {'activation': 'relu', 'hidden_layer_sizes': (5, 2), 'learning_rate_init': 0.01, 'momentum': 0.95}\n",
            "0.509 (+/-0.037) for {'activation': 'relu', 'hidden_layer_sizes': (5, 2), 'learning_rate_init': 0.01, 'momentum': 0.99}\n",
            "0.500 (+/-0.000) for {'activation': 'relu', 'hidden_layer_sizes': (5, 2), 'learning_rate_init': 0.1, 'momentum': 0.9}\n",
            "0.500 (+/-0.000) for {'activation': 'relu', 'hidden_layer_sizes': (5, 2), 'learning_rate_init': 0.1, 'momentum': 0.95}\n",
            "0.500 (+/-0.000) for {'activation': 'relu', 'hidden_layer_sizes': (5, 2), 'learning_rate_init': 0.1, 'momentum': 0.99}\n",
            "0.517 (+/-0.073) for {'activation': 'relu', 'hidden_layer_sizes': (3, 3, 3), 'learning_rate_init': 0.001, 'momentum': 0.9}\n",
            "0.503 (+/-0.013) for {'activation': 'relu', 'hidden_layer_sizes': (3, 3, 3), 'learning_rate_init': 0.001, 'momentum': 0.95}\n",
            "0.558 (+/-0.232) for {'activation': 'relu', 'hidden_layer_sizes': (3, 3, 3), 'learning_rate_init': 0.001, 'momentum': 0.99}\n",
            "0.523 (+/-0.088) for {'activation': 'relu', 'hidden_layer_sizes': (3, 3, 3), 'learning_rate_init': 0.01, 'momentum': 0.9}\n",
            "0.504 (+/-0.017) for {'activation': 'relu', 'hidden_layer_sizes': (3, 3, 3), 'learning_rate_init': 0.01, 'momentum': 0.95}\n",
            "0.513 (+/-0.053) for {'activation': 'relu', 'hidden_layer_sizes': (3, 3, 3), 'learning_rate_init': 0.01, 'momentum': 0.99}\n",
            "0.499 (+/-0.005) for {'activation': 'relu', 'hidden_layer_sizes': (3, 3, 3), 'learning_rate_init': 0.1, 'momentum': 0.9}\n",
            "0.513 (+/-0.054) for {'activation': 'relu', 'hidden_layer_sizes': (3, 3, 3), 'learning_rate_init': 0.1, 'momentum': 0.95}\n",
            "0.504 (+/-0.016) for {'activation': 'relu', 'hidden_layer_sizes': (3, 3, 3), 'learning_rate_init': 0.1, 'momentum': 0.99}\n",
            "0.509 (+/-0.052) for {'activation': 'relu', 'hidden_layer_sizes': (5, 3, 2), 'learning_rate_init': 0.001, 'momentum': 0.9}\n",
            "0.498 (+/-0.009) for {'activation': 'relu', 'hidden_layer_sizes': (5, 3, 2), 'learning_rate_init': 0.001, 'momentum': 0.95}\n",
            "0.498 (+/-0.017) for {'activation': 'relu', 'hidden_layer_sizes': (5, 3, 2), 'learning_rate_init': 0.001, 'momentum': 0.99}\n",
            "0.508 (+/-0.044) for {'activation': 'relu', 'hidden_layer_sizes': (5, 3, 2), 'learning_rate_init': 0.01, 'momentum': 0.9}\n",
            "0.521 (+/-0.051) for {'activation': 'relu', 'hidden_layer_sizes': (5, 3, 2), 'learning_rate_init': 0.01, 'momentum': 0.95}\n",
            "0.507 (+/-0.041) for {'activation': 'relu', 'hidden_layer_sizes': (5, 3, 2), 'learning_rate_init': 0.01, 'momentum': 0.99}\n",
            "0.500 (+/-0.000) for {'activation': 'relu', 'hidden_layer_sizes': (5, 3, 2), 'learning_rate_init': 0.1, 'momentum': 0.9}\n",
            "0.503 (+/-0.013) for {'activation': 'relu', 'hidden_layer_sizes': (5, 3, 2), 'learning_rate_init': 0.1, 'momentum': 0.95}\n",
            "0.533 (+/-0.081) for {'activation': 'relu', 'hidden_layer_sizes': (5, 3, 2), 'learning_rate_init': 0.1, 'momentum': 0.99}\n",
            "0.496 (+/-0.017) for {'activation': 'relu', 'hidden_layer_sizes': (5, 4, 3, 2), 'learning_rate_init': 0.001, 'momentum': 0.9}\n",
            "0.496 (+/-0.017) for {'activation': 'relu', 'hidden_layer_sizes': (5, 4, 3, 2), 'learning_rate_init': 0.001, 'momentum': 0.95}\n",
            "0.498 (+/-0.009) for {'activation': 'relu', 'hidden_layer_sizes': (5, 4, 3, 2), 'learning_rate_init': 0.001, 'momentum': 0.99}\n",
            "0.516 (+/-0.063) for {'activation': 'relu', 'hidden_layer_sizes': (5, 4, 3, 2), 'learning_rate_init': 0.01, 'momentum': 0.9}\n",
            "0.500 (+/-0.000) for {'activation': 'relu', 'hidden_layer_sizes': (5, 4, 3, 2), 'learning_rate_init': 0.01, 'momentum': 0.95}\n",
            "0.506 (+/-0.014) for {'activation': 'relu', 'hidden_layer_sizes': (5, 4, 3, 2), 'learning_rate_init': 0.01, 'momentum': 0.99}\n",
            "0.541 (+/-0.116) for {'activation': 'relu', 'hidden_layer_sizes': (5, 4, 3, 2), 'learning_rate_init': 0.1, 'momentum': 0.9}\n",
            "0.500 (+/-0.000) for {'activation': 'relu', 'hidden_layer_sizes': (5, 4, 3, 2), 'learning_rate_init': 0.1, 'momentum': 0.95}\n",
            "0.500 (+/-0.000) for {'activation': 'relu', 'hidden_layer_sizes': (5, 4, 3, 2), 'learning_rate_init': 0.1, 'momentum': 0.99}\n"
          ],
          "name": "stdout"
        }
      ]
    },
    {
      "metadata": {
        "id": "47IxYzu3U_3m",
        "colab_type": "text"
      },
      "cell_type": "markdown",
      "source": [
        "Una vez hemos obtenido nuestros mejores hiperparámetros se define y entrena un clasificador (con el conjunto de entrenamiento) "
      ]
    },
    {
      "metadata": {
        "id": "8hcVsmRvRhNf",
        "colab_type": "code",
        "colab": {
          "base_uri": "https://localhost:8080/",
          "height": 68
        },
        "outputId": "6f893849-fe74-4f62-c6e1-cd8ebbd01ffe"
      },
      "cell_type": "code",
      "source": [
        "modelKNN = KNeighborsClassifier(n_neighbors=51)\n",
        "modelKNN.fit(trainData, trainLabels)"
      ],
      "execution_count": 23,
      "outputs": [
        {
          "output_type": "execute_result",
          "data": {
            "text/plain": [
              "KNeighborsClassifier(algorithm='auto', leaf_size=30, metric='minkowski',\n",
              "           metric_params=None, n_jobs=None, n_neighbors=51, p=2,\n",
              "           weights='uniform')"
            ]
          },
          "metadata": {
            "tags": []
          },
          "execution_count": 23
        }
      ]
    },
    {
      "metadata": {
        "id": "EEofNVwkRho8",
        "colab_type": "code",
        "colab": {
          "base_uri": "https://localhost:8080/",
          "height": 119
        },
        "outputId": "0db89842-b7da-426c-af90-3da701ab8b91"
      },
      "cell_type": "code",
      "source": [
        "modelArbol = DecisionTreeClassifier(min_samples_split=10)\n",
        "modelArbol.fit(trainData, trainLabels)"
      ],
      "execution_count": 24,
      "outputs": [
        {
          "output_type": "execute_result",
          "data": {
            "text/plain": [
              "DecisionTreeClassifier(class_weight=None, criterion='gini', max_depth=None,\n",
              "            max_features=None, max_leaf_nodes=None,\n",
              "            min_impurity_decrease=0.0, min_impurity_split=None,\n",
              "            min_samples_leaf=1, min_samples_split=10,\n",
              "            min_weight_fraction_leaf=0.0, presort=False, random_state=None,\n",
              "            splitter='best')"
            ]
          },
          "metadata": {
            "tags": []
          },
          "execution_count": 24
        }
      ]
    },
    {
      "metadata": {
        "id": "Lirdx1eyRii7",
        "colab_type": "code",
        "colab": {
          "base_uri": "https://localhost:8080/",
          "height": 85
        },
        "outputId": "9c63e84e-ffd5-4a3a-ebc9-6fac4d23283c"
      },
      "cell_type": "code",
      "source": [
        "modelLR = LogisticRegression(C=1000)\n",
        "modelLR.fit(trainData, trainLabels)"
      ],
      "execution_count": 25,
      "outputs": [
        {
          "output_type": "execute_result",
          "data": {
            "text/plain": [
              "LogisticRegression(C=1000, class_weight=None, dual=False, fit_intercept=True,\n",
              "          intercept_scaling=1, max_iter=100, multi_class='warn',\n",
              "          n_jobs=None, penalty='l2', random_state=None, solver='warn',\n",
              "          tol=0.0001, verbose=0, warm_start=False)"
            ]
          },
          "metadata": {
            "tags": []
          },
          "execution_count": 25
        }
      ]
    },
    {
      "metadata": {
        "id": "lM-5-x2IRjVj",
        "colab_type": "code",
        "colab": {
          "base_uri": "https://localhost:8080/",
          "height": 136
        },
        "outputId": "b2d5afed-fd5a-40c3-db43-3a808aa671a1"
      },
      "cell_type": "code",
      "source": [
        "mLPClassifier = MLPClassifier(activation='identity', hidden_layer_sizes=2, learning_rate_init=0.1, momentum= 0.9)\n",
        "mLPClassifier.fit(trainData, trainLabels)"
      ],
      "execution_count": 26,
      "outputs": [
        {
          "output_type": "execute_result",
          "data": {
            "text/plain": [
              "MLPClassifier(activation='identity', alpha=0.0001, batch_size='auto',\n",
              "       beta_1=0.9, beta_2=0.999, early_stopping=False, epsilon=1e-08,\n",
              "       hidden_layer_sizes=2, learning_rate='constant',\n",
              "       learning_rate_init=0.1, max_iter=200, momentum=0.9,\n",
              "       n_iter_no_change=10, nesterovs_momentum=True, power_t=0.5,\n",
              "       random_state=None, shuffle=True, solver='adam', tol=0.0001,\n",
              "       validation_fraction=0.1, verbose=False, warm_start=False)"
            ]
          },
          "metadata": {
            "tags": []
          },
          "execution_count": 26
        }
      ]
    },
    {
      "metadata": {
        "id": "cdMp19zIWRTf",
        "colab_type": "text"
      },
      "cell_type": "markdown",
      "source": [
        "Ahora validamos nuestros resultados, primero medainte la libreria sklearn y despues mediante curvas ROC, en este caso obtenemos como mejores resultados Redes neuronales y Arboles de decision"
      ]
    },
    {
      "metadata": {
        "id": "Md03KaBRSLKx",
        "colab_type": "code",
        "colab": {
          "base_uri": "https://localhost:8080/",
          "height": 187
        },
        "outputId": "61e559e5-6fa6-4572-9c05-553751944044"
      },
      "cell_type": "code",
      "source": [
        "from sklearn.metrics import classification_report\n",
        "\n",
        "print(\"EVALUACIÓN EN CONJUNTO DE TEST USANDO KNN\")\n",
        "predictionsKNN = modelKNN.predict(testData)\n",
        "print(classification_report(testLabels, predictionsKNN))"
      ],
      "execution_count": 27,
      "outputs": [
        {
          "output_type": "stream",
          "text": [
            "EVALUACIÓN EN CONJUNTO DE TEST USANDO KNN\n",
            "              precision    recall  f1-score   support\n",
            "\n",
            "         0.0       0.70      0.92      0.79        77\n",
            "         1.0       0.25      0.06      0.10        33\n",
            "\n",
            "   micro avg       0.66      0.66      0.66       110\n",
            "   macro avg       0.47      0.49      0.45       110\n",
            "weighted avg       0.56      0.66      0.58       110\n",
            "\n"
          ],
          "name": "stdout"
        }
      ]
    },
    {
      "metadata": {
        "id": "5abyMO9TSNUh",
        "colab_type": "code",
        "colab": {
          "base_uri": "https://localhost:8080/",
          "height": 187
        },
        "outputId": "b2174453-7c61-4a64-8983-f95bb0484a99"
      },
      "cell_type": "code",
      "source": [
        "print(\"EVALUACIÓN EN CONJUNTO DE TEST USANDO Arboles de decision\")\n",
        "predictionsArboles = modelArbol.predict(testData)\n",
        "print(classification_report(testLabels, predictionsArboles))"
      ],
      "execution_count": 28,
      "outputs": [
        {
          "output_type": "stream",
          "text": [
            "EVALUACIÓN EN CONJUNTO DE TEST USANDO Arboles de decision\n",
            "              precision    recall  f1-score   support\n",
            "\n",
            "         0.0       0.79      0.69      0.74        77\n",
            "         1.0       0.44      0.58      0.50        33\n",
            "\n",
            "   micro avg       0.65      0.65      0.65       110\n",
            "   macro avg       0.62      0.63      0.62       110\n",
            "weighted avg       0.69      0.65      0.67       110\n",
            "\n"
          ],
          "name": "stdout"
        }
      ]
    },
    {
      "metadata": {
        "id": "EbRuMg3ZSP8Z",
        "colab_type": "code",
        "colab": {
          "base_uri": "https://localhost:8080/",
          "height": 187
        },
        "outputId": "f88ea4ab-add2-4bef-c7eb-827a1573b373"
      },
      "cell_type": "code",
      "source": [
        "print(\"EVALUACIÓN EN CONJUNTO DE TEST USANDO Regresión Logística\")\n",
        "predictionsRegres = modelLR.predict(testData)\n",
        "print(classification_report(testLabels, predictionsRegres))"
      ],
      "execution_count": 29,
      "outputs": [
        {
          "output_type": "stream",
          "text": [
            "EVALUACIÓN EN CONJUNTO DE TEST USANDO Regresión Logística\n",
            "              precision    recall  f1-score   support\n",
            "\n",
            "         0.0       0.74      0.91      0.81        77\n",
            "         1.0       0.53      0.24      0.33        33\n",
            "\n",
            "   micro avg       0.71      0.71      0.71       110\n",
            "   macro avg       0.64      0.58      0.57       110\n",
            "weighted avg       0.68      0.71      0.67       110\n",
            "\n"
          ],
          "name": "stdout"
        }
      ]
    },
    {
      "metadata": {
        "id": "WuH3lQIdSReg",
        "colab_type": "code",
        "colab": {
          "base_uri": "https://localhost:8080/",
          "height": 187
        },
        "outputId": "327bd2ee-7b29-48b3-ba28-65f5eee5ec60"
      },
      "cell_type": "code",
      "source": [
        "print(\"EVALUACIÓN EN CONJUNTO DE TEST USANDO Redes neuronales\")\n",
        "predictionsRedes = mLPClassifier.predict(testData)\n",
        "print(classification_report(testLabels, predictionsRedes))"
      ],
      "execution_count": 30,
      "outputs": [
        {
          "output_type": "stream",
          "text": [
            "EVALUACIÓN EN CONJUNTO DE TEST USANDO Redes neuronales\n",
            "              precision    recall  f1-score   support\n",
            "\n",
            "         0.0       0.74      0.94      0.83        77\n",
            "         1.0       0.62      0.24      0.35        33\n",
            "\n",
            "   micro avg       0.73      0.73      0.73       110\n",
            "   macro avg       0.68      0.59      0.59       110\n",
            "weighted avg       0.70      0.73      0.68       110\n",
            "\n"
          ],
          "name": "stdout"
        }
      ]
    },
    {
      "metadata": {
        "id": "JdIjkG-xSimx",
        "colab_type": "code",
        "colab": {}
      },
      "cell_type": "code",
      "source": [
        "import matplotlib.pyplot as plt\n",
        "from sklearn.metrics import roc_curve, auc\n",
        "%matplotlib inline\n",
        "def drawROCCurves(classifiers,predictions,actualLabels):\n",
        "    plt.close()\n",
        "    plt.figure()\n",
        "    lw = 2\n",
        "    fpr = dict()\n",
        "    tpr=dict()\n",
        "    roc_auc =dict()\n",
        "    for i,_ in enumerate(classifiers):\n",
        "        fpr[i],tpr[i],_=roc_curve(actualLabels,predictions[i])\n",
        "        roc_auc[i]=auc(fpr[i],tpr[i])\n",
        "\n",
        "    colours = ['darkorange','aqua','red','green','cornflowerblue','yellow']\n",
        "    for i,_ in enumerate(classifiers):\n",
        "        plt.plot(fpr[i], tpr[i], color=colours[i], lw=lw, label='ROC curve %s (area = %0.2f)' % (classifiers[i],roc_auc[i]))\n",
        "    plt.plot([0, 1], [0, 1], color='navy', lw=lw, linestyle='--')\n",
        "    plt.xlim([0.0, 1.0])\n",
        "    plt.ylim([0.0, 1.05])\n",
        "    plt.xlabel('False Positive Rate')\n",
        "    plt.ylabel('True Positive Rate')\n",
        "    plt.title('Receiver operating characteristic example')\n",
        "    plt.legend(loc=\"lower right\")\n",
        "    plt.show()"
      ],
      "execution_count": 0,
      "outputs": []
    },
    {
      "metadata": {
        "id": "dzLurgC7SlhU",
        "colab_type": "code",
        "colab": {
          "base_uri": "https://localhost:8080/",
          "height": 1129
        },
        "outputId": "6995a84f-8f6a-4f67-ad33-399f666e88cd"
      },
      "cell_type": "code",
      "source": [
        "drawROCCurves(['KNN'],[predictionsKNN],testLabels)\n",
        "drawROCCurves(['Árboles de decisión'],[predictionsArboles],testLabels)\n",
        "drawROCCurves(['Regresión Logística'],[predictionsRegres],testLabels)\n",
        "drawROCCurves(['Redes neuronales'],[predictionsRedes],testLabels)"
      ],
      "execution_count": 34,
      "outputs": [
        {
          "output_type": "display_data",
          "data": {
            "image/png": "[encoded data removed]",
            "text/plain": [
              "<Figure size 432x288 with 1 Axes>"
            ]
          },
          "metadata": {
            "tags": []
          }
        },
        {
          "output_type": "display_data",
          "data": {
            "image/png": "[encoded data removed]",
            "text/plain": [
              "<Figure size 432x288 with 1 Axes>"
            ]
          },
          "metadata": {
            "tags": []
          }
        },
        {
          "output_type": "display_data",
          "data": {
            "image/png": "[encoded data removed]",
            "text/plain": [
              "<Figure size 432x288 with 1 Axes>"
            ]
          },
          "metadata": {
            "tags": []
          }
        },
        {
          "output_type": "display_data",
          "data": {
            "image/png": "[encoded data removed]",
            "text/plain": [
              "<Figure size 432x288 with 1 Axes>"
            ]
          },
          "metadata": {
            "tags": []
          }
        }
      ]
    },
    {
      "metadata": {
        "id": "xBfYO4MkWgm6",
        "colab_type": "text"
      },
      "cell_type": "markdown",
      "source": [
        "Por último comparamos nuestros distintos clasificadores mediante un estudio estadístico, aquí al igual que en los notebook anteriores obtenemos como mejores clasificadores Linear regrtesion y arboles de decision"
      ]
    },
    {
      "metadata": {
        "id": "2knDj_arSlgX",
        "colab_type": "code",
        "colab": {}
      },
      "cell_type": "code",
      "source": [
        "# Árbol de decisión\n",
        "clfTree = DecisionTreeClassifier(random_state=84)\n",
        "param_distTree = {'min_samples_split': range(2,50)}\n",
        "# SVM\n",
        "clfSVC = SVC(random_state=84)\n",
        "param_distSVC = {'C': [1, 10, 100, 1000], 'gamma': [0.001, 0.0001],'kernel': ['rbf'], 'class_weight':['balanced', None]}\n",
        "# KNN\n",
        "clfKNN = KNeighborsClassifier()\n",
        "param_distKNN = {'n_neighbors': range(1,55)}\n",
        "# Regresión logística\n",
        "clfLR = LogisticRegression(random_state=84)\n",
        "param_distLR = {'C': [0.1,1,10,100,1000]}\n",
        "# Red neuronal\n",
        "clfMLP = MLPClassifier(random_state=84)\n",
        "param_distMLP = {'hidden_layer_sizes': [(2),(5,2), (3,3,3), (5,3,2), (5,4,3,2)],\n",
        "     'activation' : ['identity', 'logistic', 'tanh', 'relu'],\n",
        "     'momentum' : [0.9,0.95,0.99],\n",
        "     'learning_rate_init' : [0.001,0.01,0.1]}"
      ],
      "execution_count": 0,
      "outputs": []
    },
    {
      "metadata": {
        "id": "TJGOXX0xTl6X",
        "colab_type": "code",
        "colab": {
          "base_uri": "https://localhost:8080/",
          "height": 153
        },
        "outputId": "818fc52e-36d8-4b44-f83a-69f3b6c78511"
      },
      "cell_type": "code",
      "source": [
        "!pip install StatisticalAnalysis\n",
        "from StatisticalAnalysis import compare_methods"
      ],
      "execution_count": 36,
      "outputs": [
        {
          "output_type": "stream",
          "text": [
            "Collecting StatisticalAnalysis\n",
            "  Downloading https://files.pythonhosted.org/packages/e6/5e/f196edb8ca535fbc08ad15965eba178b9594ada2e84f1d49c34208410c49/StatisticalAnalysis-0.0.4.tar.gz\n",
            "Building wheels for collected packages: StatisticalAnalysis\n",
            "  Building wheel for StatisticalAnalysis (setup.py) ... \u001b[?25ldone\n",
            "\u001b[?25h  Stored in directory: /root/.cache/pip/wheels/ad/00/5e/9acdf6ea47e291b77a1c2bbe4e498a8e4ad955adff16f90dd2\n",
            "Successfully built StatisticalAnalysis\n",
            "Installing collected packages: StatisticalAnalysis\n",
            "Successfully installed StatisticalAnalysis-0.0.4\n"
          ],
          "name": "stdout"
        }
      ]
    },
    {
      "metadata": {
        "id": "PWYFYPQITnWV",
        "colab_type": "code",
        "colab": {
          "base_uri": "https://localhost:8080/",
          "height": 2116
        },
        "outputId": "d4b31771-714e-49f4-bdaa-cee756775413"
      },
      "cell_type": "code",
      "source": [
        "listAlgorithms = [clfTree,clfSVC,clfKNN,clfLR,clfMLP]\n",
        "listParams = [param_distTree,param_distSVC,param_distKNN,param_distLR,param_distMLP]\n",
        "listNames = [\"Arbol\", \"SVM\", \"KNN\", \"LR\", \"MLP\"]\n",
        "compare_methods(X,Y,listAlgorithms,listParams,listNames,metric='precision')"
      ],
      "execution_count": 37,
      "outputs": [
        {
          "output_type": "stream",
          "text": [
            "/usr/local/lib/python3.6/dist-packages/sklearn/model_selection/_search.py:841: DeprecationWarning: The default of the `iid` parameter will change from True to False in version 0.22 and will be removed in 0.24. This will change numeric results when test-set sizes are unequal.\n",
            "  DeprecationWarning)\n",
            "/usr/local/lib/python3.6/dist-packages/sklearn/model_selection/_search.py:841: DeprecationWarning: The default of the `iid` parameter will change from True to False in version 0.22 and will be removed in 0.24. This will change numeric results when test-set sizes are unequal.\n",
            "  DeprecationWarning)\n",
            "/usr/local/lib/python3.6/dist-packages/sklearn/model_selection/_search.py:841: DeprecationWarning: The default of the `iid` parameter will change from True to False in version 0.22 and will be removed in 0.24. This will change numeric results when test-set sizes are unequal.\n",
            "  DeprecationWarning)\n",
            "/usr/local/lib/python3.6/dist-packages/sklearn/model_selection/_search.py:841: DeprecationWarning: The default of the `iid` parameter will change from True to False in version 0.22 and will be removed in 0.24. This will change numeric results when test-set sizes are unequal.\n",
            "  DeprecationWarning)\n",
            "/usr/local/lib/python3.6/dist-packages/sklearn/model_selection/_search.py:841: DeprecationWarning: The default of the `iid` parameter will change from True to False in version 0.22 and will be removed in 0.24. This will change numeric results when test-set sizes are unequal.\n",
            "  DeprecationWarning)\n",
            "/usr/local/lib/python3.6/dist-packages/sklearn/model_selection/_search.py:841: DeprecationWarning: The default of the `iid` parameter will change from True to False in version 0.22 and will be removed in 0.24. This will change numeric results when test-set sizes are unequal.\n",
            "  DeprecationWarning)\n",
            "/usr/local/lib/python3.6/dist-packages/sklearn/model_selection/_search.py:841: DeprecationWarning: The default of the `iid` parameter will change from True to False in version 0.22 and will be removed in 0.24. This will change numeric results when test-set sizes are unequal.\n",
            "  DeprecationWarning)\n",
            "/usr/local/lib/python3.6/dist-packages/sklearn/model_selection/_search.py:841: DeprecationWarning: The default of the `iid` parameter will change from True to False in version 0.22 and will be removed in 0.24. This will change numeric results when test-set sizes are unequal.\n",
            "  DeprecationWarning)\n",
            "/usr/local/lib/python3.6/dist-packages/sklearn/model_selection/_search.py:841: DeprecationWarning: The default of the `iid` parameter will change from True to False in version 0.22 and will be removed in 0.24. This will change numeric results when test-set sizes are unequal.\n",
            "  DeprecationWarning)\n",
            "/usr/local/lib/python3.6/dist-packages/sklearn/model_selection/_search.py:841: DeprecationWarning: The default of the `iid` parameter will change from True to False in version 0.22 and will be removed in 0.24. This will change numeric results when test-set sizes are unequal.\n",
            "  DeprecationWarning)\n",
            "/usr/local/lib/python3.6/dist-packages/sklearn/model_selection/_search.py:841: DeprecationWarning: The default of the `iid` parameter will change from True to False in version 0.22 and will be removed in 0.24. This will change numeric results when test-set sizes are unequal.\n",
            "  DeprecationWarning)\n",
            "/usr/local/lib/python3.6/dist-packages/sklearn/model_selection/_search.py:841: DeprecationWarning: The default of the `iid` parameter will change from True to False in version 0.22 and will be removed in 0.24. This will change numeric results when test-set sizes are unequal.\n",
            "  DeprecationWarning)\n",
            "/usr/local/lib/python3.6/dist-packages/sklearn/model_selection/_search.py:841: DeprecationWarning: The default of the `iid` parameter will change from True to False in version 0.22 and will be removed in 0.24. This will change numeric results when test-set sizes are unequal.\n",
            "  DeprecationWarning)\n",
            "/usr/local/lib/python3.6/dist-packages/sklearn/model_selection/_search.py:841: DeprecationWarning: The default of the `iid` parameter will change from True to False in version 0.22 and will be removed in 0.24. This will change numeric results when test-set sizes are unequal.\n",
            "  DeprecationWarning)\n",
            "/usr/local/lib/python3.6/dist-packages/sklearn/model_selection/_search.py:841: DeprecationWarning: The default of the `iid` parameter will change from True to False in version 0.22 and will be removed in 0.24. This will change numeric results when test-set sizes are unequal.\n",
            "  DeprecationWarning)\n",
            "/usr/local/lib/python3.6/dist-packages/sklearn/model_selection/_search.py:841: DeprecationWarning: The default of the `iid` parameter will change from True to False in version 0.22 and will be removed in 0.24. This will change numeric results when test-set sizes are unequal.\n",
            "  DeprecationWarning)\n",
            "/usr/local/lib/python3.6/dist-packages/sklearn/model_selection/_search.py:841: DeprecationWarning: The default of the `iid` parameter will change from True to False in version 0.22 and will be removed in 0.24. This will change numeric results when test-set sizes are unequal.\n",
            "  DeprecationWarning)\n",
            "/usr/local/lib/python3.6/dist-packages/sklearn/model_selection/_search.py:841: DeprecationWarning: The default of the `iid` parameter will change from True to False in version 0.22 and will be removed in 0.24. This will change numeric results when test-set sizes are unequal.\n",
            "  DeprecationWarning)\n",
            "/usr/local/lib/python3.6/dist-packages/sklearn/model_selection/_search.py:841: DeprecationWarning: The default of the `iid` parameter will change from True to False in version 0.22 and will be removed in 0.24. This will change numeric results when test-set sizes are unequal.\n",
            "  DeprecationWarning)\n",
            "/usr/local/lib/python3.6/dist-packages/sklearn/model_selection/_search.py:841: DeprecationWarning: The default of the `iid` parameter will change from True to False in version 0.22 and will be removed in 0.24. This will change numeric results when test-set sizes are unequal.\n",
            "  DeprecationWarning)\n",
            "/usr/local/lib/python3.6/dist-packages/sklearn/model_selection/_search.py:841: DeprecationWarning: The default of the `iid` parameter will change from True to False in version 0.22 and will be removed in 0.24. This will change numeric results when test-set sizes are unequal.\n",
            "  DeprecationWarning)\n",
            "/usr/local/lib/python3.6/dist-packages/sklearn/model_selection/_search.py:841: DeprecationWarning: The default of the `iid` parameter will change from True to False in version 0.22 and will be removed in 0.24. This will change numeric results when test-set sizes are unequal.\n",
            "  DeprecationWarning)\n",
            "/usr/local/lib/python3.6/dist-packages/sklearn/model_selection/_search.py:841: DeprecationWarning: The default of the `iid` parameter will change from True to False in version 0.22 and will be removed in 0.24. This will change numeric results when test-set sizes are unequal.\n",
            "  DeprecationWarning)\n",
            "/usr/local/lib/python3.6/dist-packages/sklearn/model_selection/_search.py:841: DeprecationWarning: The default of the `iid` parameter will change from True to False in version 0.22 and will be removed in 0.24. This will change numeric results when test-set sizes are unequal.\n",
            "  DeprecationWarning)\n"
          ],
          "name": "stderr"
        },
        {
          "output_type": "stream",
          "text": [
            "temp.csv\n",
            "['Arbol' 'SVM' 'KNN' 'LR' 'MLP']\n",
            "==========================================================\n",
            "Report\n",
            "==========================================================\n",
            "**********************************************************\n",
            "Mean and std\n",
            "**********************************************************\n",
            "Arbol: 0.414800 (0.190600)\n",
            "SVM: 0.086081 (0.143300)\n",
            "KNN: 0.340357 (0.332003)\n",
            "LR: 0.543333 (0.338641)\n",
            "MLP: 0.386658 (0.243578)\n",
            "**********************************************************\n",
            "Statistical tests\n",
            "**********************************************************\n",
            "----------------------------------------------------------\n",
            "Checking parametric conditions \n",
            "----------------------------------------------------------\n",
            "Checking independence \n",
            "Ok\n",
            "Checking normality using Shapiro-Wilk's test for normality, alpha=0.05\n",
            "W: 0.911941, p:0.001221\n",
            "The null hypothesis (normality) is rejected\n",
            "Checking heteroscedasticity using Levene's test, alpha=0.05\n",
            "W: 2.673304, p:0.043918\n",
            "The null hypothesis (heteroscedasticity) is rejected\n",
            "Conditions for a parametric test are not fulfilled, applying a non-parametric test\n",
            "----------------------------------------------------------\n",
            "Working with more than 2 algorithms\n",
            "----------------------------------------------------------\n",
            "----------------------------------------------------------\n",
            "Applying Friedman test\n",
            "----------------------------------------------------------\n",
            "F-value: 2.385199, p-value: 0.06931754186500128\n",
            "Null hypothesis is rejected; hence, models have different performance\n",
            "Technique      Ranking\n",
            "-----------  ---------\n",
            "LR                3.85\n",
            "Arbol             3.2\n",
            "MLP               3.1\n",
            "KNN               3\n",
            "SVM               1.85\n",
            "Winner model: LR\n",
            "----------------------------------------------------------\n",
            "Applying Holm p-value adjustment procedure and analysing effect size\n",
            "----------------------------------------------------------\n",
            "Comparison      Zvalue     p-value    adjusted p-value\n",
            "------------  --------  ----------  ------------------\n",
            "LR vs SVM     2.82843   0.00467773           0.0187109\n",
            "LR vs KNN     1.20208   0.229332             0.687996\n",
            "LR vs MLP     1.06066   0.288844             0.687996\n",
            "LR vs Arbol   0.919239  0.357971             0.687996\n",
            "There is a significant difference between the models: LR (mean: 0.543333, std: 0.338641) and SVM (mean: 0.086081, std: 0.143300) (Cohen's d=1.6683369690498018, Large)\n",
            "We can't say that there is a significant difference in the performance of the models: LR (mean: 0.543333, std: 0.338641) and KNN (mean: 0.340357, std: 0.332003) (Cohen's d=0.5742264788041105, Large)\n",
            "We can't say that there is a significant difference in the performance of the models: LR (mean: 0.543333, std: 0.338641) and MLP (mean: 0.386658, std: 0.243578) (Cohen's d=0.5039107634356305, Large)\n",
            "We can't say that there is a significant difference in the performance of the models: LR (mean: 0.543333, std: 0.338641) and Arbol (mean: 0.414800, std: 0.190600) (Cohen's d=0.44376763849515904, Medium)\n",
            "Eta squared: 0.248145 (Large)\n"
          ],
          "name": "stdout"
        },
        {
          "output_type": "display_data",
          "data": {
            "image/png": "[encoded data removed]",
            "text/plain": [
              "<Figure size 432x288 with 1 Axes>"
            ]
          },
          "metadata": {
            "tags": []
          }
        }
      ]
    },
    {
      "metadata": {
        "id": "o2DRIOZYXy_0",
        "colab_type": "text"
      },
      "cell_type": "markdown",
      "source": [
        "Como se tienen dudas de que clasificador usar debido a que se obtienen distintos resultados tanto usando la libreía sklear como las curvas y el estudio estadístico se recupera de la práctica7 el evaluador manual para obtener otro resultado, que decanta la valanza a favor de las redes neuronales"
      ]
    },
    {
      "metadata": {
        "id": "9T9q8u-sXVFX",
        "colab_type": "code",
        "colab": {}
      },
      "cell_type": "code",
      "source": [
        "def evalua(clasificador,testData,testLabels):\n",
        "  predicts = clasificador.predict(testData)\n",
        "  contador=0\n",
        "  for i,j in zip(testLabels,predicts):\n",
        "    if i == j:\n",
        "      contador+=1\n",
        "  return contador"
      ],
      "execution_count": 0,
      "outputs": []
    },
    {
      "metadata": {
        "id": "UdF2hFQqXWg_",
        "colab_type": "code",
        "colab": {
          "base_uri": "https://localhost:8080/",
          "height": 34
        },
        "outputId": "ca5cc94b-c363-4f25-f927-1796a331d56a"
      },
      "cell_type": "code",
      "source": [
        "res2 = str(evalua(modelKNN ,testData,testLabels)) + \" modelKNN \"\n",
        "res3 = str(evalua(modelArbol ,testData,testLabels)) + \" modelArbol \"\n",
        "res4 = str(evalua(modelLR ,testData,testLabels)) + \" modelLR \"\n",
        "res5 = str(evalua(mLPClassifier ,testData,testLabels)) + \" mLPClassifier \"\n",
        "print(max(res2,res3,res4,res5))"
      ],
      "execution_count": 41,
      "outputs": [
        {
          "output_type": "stream",
          "text": [
            "80 mLPClassifier \n"
          ],
          "name": "stdout"
        }
      ]
    }
  ]
}